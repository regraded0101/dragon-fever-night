{
 "cells": [
  {
   "cell_type": "code",
   "execution_count": null,
   "metadata": {},
   "outputs": [],
   "source": [
    "import pandas as pd\n",
    "import spacy\n",
    "nlp = spacy.load(\"en_core_web_sm\")\n",
    "\n",
    "data = pd.read_csv('data/winemag-data_first150k.csv')"
   ]
  },
  {
   "cell_type": "code",
   "execution_count": null,
   "metadata": {},
   "outputs": [],
   "source": [
    "data = data.groupby(['country', 'variety'], group_keys=False, ).apply(lambda x: x.sample(n=10, random_state=42, replace=True))\n",
    "data = data.reset_index(drop=True)"
   ]
  },
  {
   "cell_type": "code",
   "execution_count": null,
   "metadata": {},
   "outputs": [],
   "source": [
    "data['variety'] = data['variety'].str.lower()\n",
    "data['country'] = data['country'].str.lower()\n",
    "\n",
    "combined_data = data.groupby(['variety', 'country'])['description'].agg(lambda x: ' '.join(x))"
   ]
  },
  {
   "cell_type": "code",
   "execution_count": null,
   "metadata": {},
   "outputs": [],
   "source": [
    "ignored_words = [\n",
    "    \"%\",\n",
    "    \"wine\",\n",
    "    \"wines\",\n",
    "    \"fruit\",\n",
    "    \"fruits\",\n",
    "    \"flavor\",\n",
    "    \"flavour\",\n",
    "    \"flavors\",\n",
    "    \"flavours\",\n",
    "    \"finish\",\n",
    "    \"palate\",\n",
    "    \"aromas\",\n",
    "    \"tannins\",\n",
    "    \"nose\",\n",
    "    \"notes\",\n",
    "    \"structure\",\n",
    "    \"variety\",\n",
    "    \"feel\",\n",
    "    \"hint\",\n",
    "    \"little\",\n",
    "    \"nice\",\n",
    "    \"color\",\n",
    "    \"colors\",\n",
    "    \"colour\",\n",
    "    \"colours\",\n",
    "    \"note\"\n",
    "\n",
    "]\n",
    "def get_adjectives_spacy(words):\n",
    "    wine_vibes = []\n",
    "    doc = nlp(words)\n",
    "\n",
    "    for token in doc:\n",
    "        if token.pos_ in [\"ADJ\", \"NOUN\"] and token.text not in ignored_words:\n",
    "            wine_vibes.append(token.text)\n",
    "\n",
    "    return wine_vibes\n",
    "adj = combined_data.agg(lambda x: get_adjectives_spacy(x)).reset_index()\n"
   ]
  },
  {
   "cell_type": "code",
   "execution_count": null,
   "metadata": {},
   "outputs": [],
   "source": [
    "all_user_input_adj"
   ]
  },
  {
   "cell_type": "code",
   "execution_count": null,
   "metadata": {},
   "outputs": [],
   "source": [
    "from sentence_transformers import SentenceTransformer\n",
    "model = SentenceTransformer('paraphrase-MiniLM-L6-v2')\n",
    "\n",
    "user_input_variety = 'chenin blanc'\n",
    "user_input_country = 'france'\n",
    "user_input_adj = adj[(adj['variety']==user_input_variety) & \n",
    "                     (adj['country']==user_input_country)]\n",
    "all_user_input_adj = user_input_adj['description'].explode().reset_index()\n",
    "top_user_input_adj = all_user_input_adj.value_counts().head(10) # these will be text plotted\n",
    "\n",
    "\n",
    "\n",
    "# Get all the indexes for the top n terms by frequency\n",
    "top_n_index = all_user_input_adj.index[all_user_input_adj['description'].isin(top_user_input_adj.reset_index()['description'])]\n",
    "# Sentences are encoded by calling model.encode()\n",
    "\n",
    "all_user_input_adj = all_user_input_adj.value_counts().head(20).reset_index() # take top 20 words only to save space on vis\n",
    "user_input_emb = model.encode(all_user_input_adj['description'])\n",
    "# top_user_input_emb = model.encode(top_user_input_adj.index)\n",
    "\n",
    "# Only plots the top n words for each wine & country (otherwise the vis is too busy)\n",
    "adj_exploded = adj.explode('description')\n",
    "adj_counts = adj_exploded.groupby(['variety', 'country'])['description'].value_counts()\n",
    "adj_top = adj_counts.groupby(level=[0,1]).head(2).reset_index()\n",
    "\n",
    "# Get all adjectives\n",
    "all_adj = list(set(adj_top['description'].explode().to_list()))\n",
    "all_adj = [word for word in all_adj if str(word) != 'nan']\n",
    "all_adj_emb = model.encode(all_adj)"
   ]
  },
  {
   "cell_type": "code",
   "execution_count": null,
   "metadata": {},
   "outputs": [],
   "source": [
    "all_user_input_adj"
   ]
  },
  {
   "cell_type": "code",
   "execution_count": null,
   "metadata": {},
   "outputs": [],
   "source": [
    "from sklearn.decomposition import PCA\n",
    "import matplotlib.pyplot as plt\n",
    "pca = PCA(n_components=3)\n",
    "all_adj_embed_3d = pca.fit_transform(all_adj_emb)\n",
    "user_input_emb_3d = pca.fit_transform(user_input_emb)\n"
   ]
  },
  {
   "cell_type": "code",
   "execution_count": null,
   "metadata": {},
   "outputs": [],
   "source": [
    "all_user_input_adj['description'][:10]"
   ]
  },
  {
   "cell_type": "code",
   "execution_count": null,
   "metadata": {},
   "outputs": [],
   "source": [
    "import plotly.graph_objects as go\n",
    "\n",
    "x_coords, y_coords, z_coords = zip(*all_adj_embed_3d)\n",
    "selected_x_coords, selected_y_coords, selected_z_coords = zip(*user_input_emb_3d)\n",
    "\n",
    "# Get coords for text\n",
    "text_x_coords = selected_x_coords[:10]\n",
    "text_y_coords = selected_y_coords[:10]\n",
    "text_z_coords = selected_z_coords[:10]\n",
    "text_labels = all_user_input_adj['description'][:10]\n",
    "\n",
    "\n",
    "\n",
    "# Find the minimum and maximum values for each axis\n",
    "x_min, x_max = min(x_coords), max(x_coords)\n",
    "y_min, y_max = min(y_coords), max(y_coords)\n",
    "z_min, z_max = min(z_coords), max(z_coords)\n",
    "\n",
    "# Extend the axis range by 10%\n",
    "x_range = (x_min - (x_max - x_min) * 0.25, x_max + (x_max - x_min) * 0.25)\n",
    "y_range = (y_min - (y_max - y_min) * 0.25, y_max + (y_max - y_min) * 0.25)\n",
    "z_range = (z_min - (z_max - z_min) * 0.25, z_max + (z_max - z_min) * 0.25)\n",
    "\n",
    "\n",
    "# Create 3D scatter plot\n",
    "fig = go.Figure()\n",
    "all_trace = go.Scatter3d(x=x_coords, y=y_coords, z=z_coords, mode='markers', hoverinfo='none')\n",
    "fig.add_trace(all_trace)\n",
    "fig.update_traces(marker=dict(color='lightgrey', opacity=0.05))\n",
    "selected_trace = go.Scatter3d(x=selected_x_coords, y=selected_y_coords, z=selected_z_coords, mode='markers',\n",
    "                              text=all_user_input_adj['description'], hoverinfo='text'\n",
    ")\n",
    "fig.add_trace(selected_trace)\n",
    "selected_text = go.Scatter3d(x=text_x_coords, y=text_y_coords, z=text_z_coords, mode='text', text=text_labels, hoverinfo='none')\n",
    "fig.add_trace(selected_text)\n",
    "fig.update_layout(\n",
    "    title=\"\",\n",
    "    scene=dict(\n",
    "        xaxis=dict(range=x_range, showbackground=False, showgrid=False, showline=False, zeroline=True, showticklabels=False, showspikes=False),\n",
    "        yaxis=dict(range=y_range, showbackground=False, showgrid=False, showline=True, zeroline=True, showticklabels=False, showspikes=False),\n",
    "        zaxis=dict(range=z_range, showbackground=False, showgrid=False, showline=True, zeroline=True, showticklabels=False, showspikes=False),\n",
    "                xaxis_title='',\n",
    "        yaxis_title='',\n",
    "        zaxis_title='',\n",
    "    ),\n",
    "    margin=dict(\n",
    "        b=0,\n",
    "        t=0,\n",
    "        l=0,\n",
    "        r=0\n",
    "    ),\n",
    "    showlegend=False\n",
    ")\n",
    "\n",
    "fig.show()"
   ]
  },
  {
   "cell_type": "code",
   "execution_count": null,
   "metadata": {},
   "outputs": [],
   "source": []
  }
 ],
 "metadata": {
  "kernelspec": {
   "display_name": "wine-app",
   "language": "python",
   "name": "python3"
  },
  "language_info": {
   "codemirror_mode": {
    "name": "ipython",
    "version": 3
   },
   "file_extension": ".py",
   "mimetype": "text/x-python",
   "name": "python",
   "nbconvert_exporter": "python",
   "pygments_lexer": "ipython3",
   "version": "3.9.17"
  }
 },
 "nbformat": 4,
 "nbformat_minor": 2
}
