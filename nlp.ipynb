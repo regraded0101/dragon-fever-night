{
 "cells": [
  {
   "cell_type": "code",
   "execution_count": null,
   "metadata": {},
   "outputs": [],
   "source": [
    "from langchain.docstore.document import Document"
   ]
  },
  {
   "cell_type": "code",
   "execution_count": null,
   "metadata": {},
   "outputs": [],
   "source": [
    "from getpass import getpass\n",
    "\n",
    "HUGGINGFACEHUB_API_TOKEN = getpass()"
   ]
  },
  {
   "cell_type": "code",
   "execution_count": null,
   "metadata": {},
   "outputs": [],
   "source": [
    "import os\n",
    "\n",
    "os.environ[\"HUGGINGFACEHUB_API_TOKEN\"] = HUGGINGFACEHUB_API_TOKEN"
   ]
  },
  {
   "cell_type": "code",
   "execution_count": null,
   "metadata": {},
   "outputs": [],
   "source": [
    "import pandas as pd\n",
    "data = pd.read_csv('data/winemag-data_first150k.csv')\n",
    "data = data.head(1000)\n",
    "data = data.drop(data.columns[0], axis=1)\n"
   ]
  },
  {
   "cell_type": "code",
   "execution_count": null,
   "metadata": {},
   "outputs": [],
   "source": [
    "docs = []\n",
    "for i in range(len(data)):\n",
    "    meta_data = {\n",
    "        'country':data['country'][i],\n",
    "        'variety':data['variety'][i]\n",
    "    }\n",
    "    page_content = data['description'][i]\n",
    "    doc = Document(\n",
    "        metadata=meta_data,\n",
    "        page_content=page_content\n",
    "    )\n",
    "    docs.append(doc)"
   ]
  },
  {
   "cell_type": "code",
   "execution_count": null,
   "metadata": {},
   "outputs": [],
   "source": [
    "from langchain.embeddings import HuggingFaceEmbeddings"
   ]
  },
  {
   "cell_type": "code",
   "execution_count": null,
   "metadata": {},
   "outputs": [],
   "source": [
    "embeddings = HuggingFaceEmbeddings(model_kwargs={'device':0})"
   ]
  },
  {
   "cell_type": "code",
   "execution_count": null,
   "metadata": {},
   "outputs": [],
   "source": [
    "from langchain.vectorstores import Chroma"
   ]
  },
  {
   "cell_type": "code",
   "execution_count": null,
   "metadata": {},
   "outputs": [],
   "source": [
    "!rm -rf temp\n",
    "!mkdir temp\n",
    "\n",
    "vectordb = Chroma.from_documents(\n",
    "    documents=docs,\n",
    "    embedding=embeddings,\n",
    "    persist_directory='temp'\n",
    ")"
   ]
  },
  {
   "cell_type": "code",
   "execution_count": null,
   "metadata": {},
   "outputs": [],
   "source": [
    "docs[0]"
   ]
  },
  {
   "cell_type": "code",
   "execution_count": null,
   "metadata": {},
   "outputs": [],
   "source": [
    "from langchain.chains.query_constructor.base import AttributeInfo\n",
    "meta_data_description = [\n",
    "    AttributeInfo(\n",
    "        name='country',\n",
    "        description='country or region the wine is from',\n",
    "        type='string'\n",
    "    ),\n",
    "    AttributeInfo(\n",
    "        name='variety',\n",
    "        description='type or grape or grape blend of wine',\n",
    "        type='string'\n",
    "    )\n",
    "]"
   ]
  },
  {
   "cell_type": "code",
   "execution_count": null,
   "metadata": {},
   "outputs": [],
   "source": [
    "from langchain.retrievers.self_query.base import SelfQueryRetriever"
   ]
  },
  {
   "cell_type": "code",
   "execution_count": null,
   "metadata": {},
   "outputs": [],
   "source": [
    "from langchain.llms import HuggingFaceHub\n",
    "document_content_description = \"wine reviews\"\n",
    "llm = HuggingFaceHub(repo_id='google/flan-t5-xxl')"
   ]
  },
  {
   "cell_type": "code",
   "execution_count": null,
   "metadata": {},
   "outputs": [],
   "source": [
    "retriever = SelfQueryRetriever.from_llm(\n",
    "    llm,\n",
    "    vectordb,\n",
    "    document_content_description,\n",
    "    meta_data_description,\n",
    "    verbose=True\n",
    ")"
   ]
  },
  {
   "cell_type": "code",
   "execution_count": null,
   "metadata": {},
   "outputs": [],
   "source": [
    "question = \"what is said about Merlot\""
   ]
  },
  {
   "cell_type": "code",
   "execution_count": null,
   "metadata": {},
   "outputs": [],
   "source": [
    "retriever.get_relevant_documents(question)"
   ]
  },
  {
   "cell_type": "code",
   "execution_count": null,
   "metadata": {},
   "outputs": [],
   "source": [
    "from langchain.llms import Accelerate\n",
    "model_name = \"facebook/opt-30b\"\n",
    "FastLLM = Accelerate.from_model_name(model_name=model_name)\n",
    "print(FastLLM(\"Hello World\"))"
   ]
  },
  {
   "cell_type": "code",
   "execution_count": null,
   "metadata": {},
   "outputs": [],
   "source": [
    "from langchain.llms import Ac"
   ]
  },
  {
   "cell_type": "code",
   "execution_count": null,
   "metadata": {},
   "outputs": [],
   "source": [
    "from langchain.embeddings import HuggingFaceEmbeddings\n",
    "embeddings = HuggingFaceEmbeddings()"
   ]
  },
  {
   "cell_type": "code",
   "execution_count": null,
   "metadata": {},
   "outputs": [],
   "source": [
    "import pandas as pd\n",
    "data = pd.read_csv('data/winemag-data_first150k.csv')"
   ]
  },
  {
   "cell_type": "code",
   "execution_count": null,
   "metadata": {},
   "outputs": [],
   "source": [
    "from nltk import pos_tag, word_tokenize\n",
    "nltk.download('punkt')\n",
    "nltk.download('averaged_perceptron_tagger')\n",
    "\n",
    "# Sample string\n",
    "text = \"The quick brown fox jumps over the lazy dog.\"\n",
    "\n",
    "# Tokenize the string into words\n",
    "words = word_tokenize(text)\n",
    "\n",
    "# Perform part-of-speech tagging to get POS labels\n",
    "pos_tags = pos_tag(words)\n",
    "\n",
    "# Filter out adjectives from the tagged words\n",
    "adjectives = [word for word, pos in pos_tags if pos.startswith('JJ')]\n",
    "\n",
    "print(adjectives)"
   ]
  },
  {
   "cell_type": "code",
   "execution_count": null,
   "metadata": {},
   "outputs": [],
   "source": [
    "temp_data = data.head(100000)\n",
    "temp_data['variety'] = temp_data['variety'].str.lower()\n",
    "temp_data['country'] = temp_data['country'].str.lower()\n",
    "\n",
    "temp_combined_data = temp_data.groupby(['variety', 'country'])['description'].agg(lambda x: ' '.join(x))"
   ]
  },
  {
   "cell_type": "code",
   "execution_count": null,
   "metadata": {},
   "outputs": [],
   "source": [
    "pd.unique(temp_combined_data.reset_index()[['variety','country']].values.ravel())"
   ]
  },
  {
   "cell_type": "code",
   "execution_count": null,
   "metadata": {},
   "outputs": [],
   "source": [
    "def get_adjectives(words):\n",
    "    tokens = word_tokenize(words)\n",
    "    pos_tags = [word[0] for word in pos_tag([word.lower() for word in tokens]) if word[1] == \"JJ\"]\n",
    "    return pos_tags\n",
    "\n",
    "temp_adj = temp_combined_data.agg(lambda x: get_adjectives(x)).reset_index()\n"
   ]
  },
  {
   "cell_type": "code",
   "execution_count": null,
   "metadata": {},
   "outputs": [],
   "source": [
    "from sentence_transformers import SentenceTransformer\n",
    "model = SentenceTransformer('paraphrase-MiniLM-L6-v2')\n",
    "\n",
    "user_input_variety = 'chardonnay'\n",
    "user_input_country = 'south africa'\n",
    "user_input_adj = temp_adj[(temp_adj['variety']==user_input_variety) & \n",
    "                          (temp_adj['country']==user_input_country)]\n",
    "all_user_input_adj = user_input_adj['description'].explode().reset_index()\n",
    "top_user_input_adj = all_user_input_adj.value_counts().head(10)\n",
    "\n",
    "# Get all the indexes for the top n terms by frequency\n",
    "top_n_index = all_user_input_adj.index[all_user_input_adj['description'].isin(top_user_input_adj.reset_index()['description'])]\n",
    "# Sentences are encoded by calling model.encode()\n",
    "user_input_emb = model.encode(all_user_input_adj['description'])\n",
    "# top_user_input_emb = model.encode(top_user_input_adj.index)\n",
    "\n",
    "# Get all adjectives\n",
    "all_adj = list(set(temp_adj['description'].explode().to_list()))\n",
    "all_adj_emb = model.encode(all_adj)"
   ]
  },
  {
   "cell_type": "code",
   "execution_count": null,
   "metadata": {},
   "outputs": [],
   "source": [
    "from sklearn.decomposition import PCA\n",
    "import matplotlib.pyplot as plt\n",
    "pca = PCA(n_components=3)\n",
    "all_adj_embed_3d = pca.fit_transform(all_adj_emb)\n",
    "user_input_emb_3d = pca.fit_transform(user_input_emb)\n"
   ]
  },
  {
   "cell_type": "code",
   "execution_count": null,
   "metadata": {},
   "outputs": [],
   "source": [
    "import plotly.graph_objects as go\n",
    "\n",
    "x_coords, y_coords, z_coords = zip(*all_adj_embed_3d)\n",
    "selected_x_coords, selected_y_coords, selected_z_coords = zip(*user_input_emb_3d)\n",
    "# Get coords for text\n",
    "text_x_coords = [selected_x_coords[n] for n in top_n_index.to_list()]\n",
    "text_y_coords = [selected_y_coords[n] for n in top_n_index.to_list()]\n",
    "text_z_coords = [selected_z_coords[n] for n in top_n_index.to_list()]\n",
    "text_labels = all_user_input_adj['description'][all_user_input_adj.index.isin(top_n_index)]\n",
    "\n",
    "\n",
    "\n",
    "# Find the minimum and maximum values for each axis\n",
    "x_min, x_max = min(x_coords), max(x_coords)\n",
    "y_min, y_max = min(y_coords), max(y_coords)\n",
    "z_min, z_max = min(z_coords), max(z_coords)\n",
    "\n",
    "# Extend the axis range by 10%\n",
    "x_range = (x_min - (x_max - x_min) * 0.25, x_max + (x_max - x_min) * 0.25)\n",
    "y_range = (y_min - (y_max - y_min) * 0.25, y_max + (y_max - y_min) * 0.25)\n",
    "z_range = (z_min - (z_max - z_min) * 0.25, z_max + (z_max - z_min) * 0.25)\n",
    "\n",
    "\n",
    "# Create 3D scatter plot\n",
    "fig = go.Figure()\n",
    "all_trace = go.Scatter3d(x=x_coords, y=y_coords, z=z_coords, mode='markers', hoverinfo='none')\n",
    "fig.add_trace(all_trace)\n",
    "fig.update_traces(marker=dict(color='lightgrey', opacity=0.05))\n",
    "selected_trace = go.Scatter3d(x=selected_x_coords, y=selected_y_coords, z=selected_z_coords, mode='markers',\n",
    "                              text=all_user_input_adj['description'], hoverinfo='text'\n",
    ")\n",
    "fig.add_trace(selected_trace)\n",
    "selected_text = go.Scatter3d(x=text_x_coords, y=text_y_coords, z=text_z_coords, mode='text', text=text_labels, hoverinfo='none')\n",
    "fig.add_trace(selected_text)\n",
    "fig.update_layout(\n",
    "    title=\"\",\n",
    "    scene=dict(\n",
    "        xaxis=dict(range=x_range, showbackground=False, showgrid=False, showline=False, zeroline=True, showticklabels=False, showspikes=False),\n",
    "        yaxis=dict(range=y_range, showbackground=False, showgrid=False, showline=True, zeroline=True, showticklabels=False, showspikes=False),\n",
    "        zaxis=dict(range=z_range, showbackground=False, showgrid=False, showline=True, zeroline=True, showticklabels=False, showspikes=False),\n",
    "                xaxis_title='',\n",
    "        yaxis_title='',\n",
    "        zaxis_title='',\n",
    "    ),\n",
    "    margin=dict(\n",
    "        b=0,\n",
    "        t=0,\n",
    "        l=0,\n",
    "        r=0\n",
    "    ),\n",
    "    showlegend=False\n",
    ")\n",
    "\n",
    "fig.show()"
   ]
  },
  {
   "cell_type": "code",
   "execution_count": null,
   "metadata": {},
   "outputs": [],
   "source": [
    "[adj for adj in all_user_input_adj['description']]"
   ]
  },
  {
   "cell_type": "code",
   "execution_count": null,
   "metadata": {},
   "outputs": [],
   "source": []
  }
 ],
 "metadata": {
  "kernelspec": {
   "display_name": "wine-app",
   "language": "python",
   "name": "python3"
  },
  "language_info": {
   "codemirror_mode": {
    "name": "ipython",
    "version": 3
   },
   "file_extension": ".py",
   "mimetype": "text/x-python",
   "name": "python",
   "nbconvert_exporter": "python",
   "pygments_lexer": "ipython3",
   "version": "3.9.17"
  }
 },
 "nbformat": 4,
 "nbformat_minor": 2
}
