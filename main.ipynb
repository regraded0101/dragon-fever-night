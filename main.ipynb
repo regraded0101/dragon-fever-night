{
 "cells": [
  {
   "cell_type": "code",
   "execution_count": null,
   "metadata": {},
   "outputs": [],
   "source": [
    "from geopy.geocoders import Nominatim\n",
    "geolocator = Nominatim(user_agent=\"my_user_agent\")\n",
    "\n",
    "loc = geolocator.geocode('Champagne, France')\n"
   ]
  },
  {
   "cell_type": "code",
   "execution_count": null,
   "metadata": {},
   "outputs": [],
   "source": [
    "# Import Meteostat library\n",
    "from meteostat import Stations, Daily\n",
    "\n",
    "# Get nearby weather stations\n",
    "stations = Stations()\n",
    "stations = stations.nearby(loc.latitude, loc.longitude)\n",
    "station = stations.fetch(1)"
   ]
  },
  {
   "cell_type": "code",
   "execution_count": null,
   "metadata": {},
   "outputs": [],
   "source": [
    "from datetime import datetime, timedelta\n",
    "import numpy as np\n",
    "\n",
    "# Set time period\n",
    "start = datetime(2000, 1, 1)\n",
    "end = datetime(2018, 12, 31)\n",
    "\n",
    "# Get Daily data\n",
    "data = Daily(station.index.values[0], start, end)\n",
    "data = data.fetch()\n",
    "data = data.reset_index()\n",
    "data = data[['time','tavg', 'tmin', 'tmax']]\n"
   ]
  },
  {
   "cell_type": "code",
   "execution_count": null,
   "metadata": {},
   "outputs": [],
   "source": [
    "data['year'] = data['time'].dt.year\n",
    "data['month'] = data['time'].dt.month"
   ]
  },
  {
   "cell_type": "code",
   "execution_count": null,
   "metadata": {},
   "outputs": [],
   "source": [
    "data_month_year = data.groupby(['year', 'month'])[['tavg', 'tmin', 'tmax']].mean().reset_index()"
   ]
  },
  {
   "cell_type": "code",
   "execution_count": null,
   "metadata": {},
   "outputs": [],
   "source": [
    "data_month = data_month_year.groupby('month')[['tavg', 'tmin', 'tmax']].mean().reset_index()\n",
    "data_month.columns = ['month', 'tavg_month', 'tmin_month', 'tmax_month']\n",
    "data_month_year = data_month_year.merge(data_month, how = 'left', on = 'month')"
   ]
  },
  {
   "cell_type": "code",
   "execution_count": null,
   "metadata": {},
   "outputs": [],
   "source": [
    "data_month_year['tflux_month'] = data_month_year['tavg'] - data_month_year['tavg_month']"
   ]
  },
  {
   "cell_type": "code",
   "execution_count": null,
   "metadata": {},
   "outputs": [],
   "source": [
    "convert_months = {\n",
    "    1:\"Jan\",\n",
    "    2:\"Feb\",\n",
    "    3:\"Mar\",\n",
    "    4:\"Apr\",\n",
    "    5:\"May\",\n",
    "    6:\"Jun\", \n",
    "    7:\"July\",\n",
    "    8:\"Aug\",\n",
    "    9:\"Sep\",\n",
    "    10:\"Oct\",\n",
    "    11:\"Nov\",\n",
    "    12:\"Dec\"\n",
    "}\n",
    "data_month_year['month'] = data_month_year['month'].replace(convert_months)"
   ]
  },
  {
   "cell_type": "code",
   "execution_count": null,
   "metadata": {},
   "outputs": [],
   "source": [
    "import plotly.graph_objects as go\n",
    "from plotly.subplots import make_subplots\n",
    "\n",
    "plot_data = data_month_year[data_month_year['year'] == 2006]\n",
    "\n",
    "fig = make_subplots(specs=[[{\"secondary_y\": True}]])\n",
    "\n",
    "fig.add_trace(go.Bar(x = plot_data['month'], y = plot_data['tflux_month'], name = \"2005\"))\n",
    "fig.update_layout(\n",
    "    shapes = [\n",
    "    {\n",
    "            'type': 'rect',\n",
    "            'xref': 'x',\n",
    "            'yref': 'paper',\n",
    "            'x0': 'Mar',\n",
    "            'y0': 0,\n",
    "            'x1': 'Oct',\n",
    "            'y1': 1,\n",
    "            'fillcolor': '#ffffe0',\n",
    "            'opacity': 0.5,\n",
    "            'line': {\n",
    "                'width': 0,\n",
    "            }\n",
    "    \n",
    "    }\n",
    "    ]\n",
    ")\n",
    "#fig.add_trace(go.Scatter(x = plot_data['month'], y = plot_data['tmax']), secondary_y=True)\n",
    "#fig.add_trace(go.Scatter(x = plot_data['month'], y = plot_data['tmin']), secondary_y=True)"
   ]
  },
  {
   "cell_type": "code",
   "execution_count": null,
   "metadata": {},
   "outputs": [],
   "source": []
  }
 ],
 "metadata": {
  "kernelspec": {
   "display_name": "Python 3",
   "language": "python",
   "name": "python3"
  },
  "language_info": {
   "codemirror_mode": {
    "name": "ipython",
    "version": 3
   },
   "file_extension": ".py",
   "mimetype": "text/x-python",
   "name": "python",
   "nbconvert_exporter": "python",
   "pygments_lexer": "ipython3",
   "version": "3.10.4"
  },
  "orig_nbformat": 4
 },
 "nbformat": 4,
 "nbformat_minor": 2
}
