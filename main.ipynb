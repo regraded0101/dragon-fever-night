{
 "cells": [
  {
   "cell_type": "code",
   "execution_count": 1,
   "metadata": {},
   "outputs": [
    {
     "name": "stdout",
     "output_type": "stream",
     "text": [
      "Alsace, France métropolitaine, France\n"
     ]
    }
   ],
   "source": [
    "from geopy.geocoders import Nominatim\n",
    "import pandas as pd\n",
    "from datetime import datetime\n",
    "geolocator = Nominatim(user_agent=\"my_user_agent\")\n",
    "\n",
    "loc = geolocator.geocode(\"Alsace, France\")\n",
    "print(loc)"
   ]
  },
  {
   "cell_type": "code",
   "execution_count": 2,
   "metadata": {},
   "outputs": [],
   "source": [
    "# Import Meteostat library\n",
    "from meteostat import Stations, Daily\n",
    "\n",
    "# Get nearby weather stations\n",
    "stations = Stations()\n",
    "stations = stations.nearby(loc.latitude, loc.longitude)\n",
    "station = stations.fetch(10)\n",
    "station = station[station['distance'] <= 5e5]"
   ]
  },
  {
   "cell_type": "code",
   "execution_count": 3,
   "metadata": {},
   "outputs": [
    {
     "data": {
      "text/html": [
       "<div>\n",
       "<style scoped>\n",
       "    .dataframe tbody tr th:only-of-type {\n",
       "        vertical-align: middle;\n",
       "    }\n",
       "\n",
       "    .dataframe tbody tr th {\n",
       "        vertical-align: top;\n",
       "    }\n",
       "\n",
       "    .dataframe thead th {\n",
       "        text-align: right;\n",
       "    }\n",
       "</style>\n",
       "<table border=\"1\" class=\"dataframe\">\n",
       "  <thead>\n",
       "    <tr style=\"text-align: right;\">\n",
       "      <th></th>\n",
       "      <th>name</th>\n",
       "      <th>country</th>\n",
       "      <th>region</th>\n",
       "      <th>wmo</th>\n",
       "      <th>icao</th>\n",
       "      <th>latitude</th>\n",
       "      <th>longitude</th>\n",
       "      <th>elevation</th>\n",
       "      <th>timezone</th>\n",
       "      <th>hourly_start</th>\n",
       "      <th>hourly_end</th>\n",
       "      <th>daily_start</th>\n",
       "      <th>daily_end</th>\n",
       "      <th>monthly_start</th>\n",
       "      <th>monthly_end</th>\n",
       "      <th>distance</th>\n",
       "    </tr>\n",
       "    <tr>\n",
       "      <th>id</th>\n",
       "      <th></th>\n",
       "      <th></th>\n",
       "      <th></th>\n",
       "      <th></th>\n",
       "      <th></th>\n",
       "      <th></th>\n",
       "      <th></th>\n",
       "      <th></th>\n",
       "      <th></th>\n",
       "      <th></th>\n",
       "      <th></th>\n",
       "      <th></th>\n",
       "      <th></th>\n",
       "      <th></th>\n",
       "      <th></th>\n",
       "      <th></th>\n",
       "    </tr>\n",
       "  </thead>\n",
       "  <tbody>\n",
       "    <tr>\n",
       "      <th>LFGA0</th>\n",
       "      <td>Colmar / Houssen</td>\n",
       "      <td>FR</td>\n",
       "      <td>A</td>\n",
       "      <td>&lt;NA&gt;</td>\n",
       "      <td>LFGA</td>\n",
       "      <td>48.1099</td>\n",
       "      <td>7.3590</td>\n",
       "      <td>191.0</td>\n",
       "      <td>Europe/Paris</td>\n",
       "      <td>2020-01-14</td>\n",
       "      <td>2023-03-22</td>\n",
       "      <td>2020-01-14</td>\n",
       "      <td>2022-04-25</td>\n",
       "      <td>2020-01-01</td>\n",
       "      <td>2022-01-01</td>\n",
       "      <td>15898.343254</td>\n",
       "    </tr>\n",
       "    <tr>\n",
       "      <th>D5453</th>\n",
       "      <td>Weisweil-Waldeckhof</td>\n",
       "      <td>DE</td>\n",
       "      <td>BW</td>\n",
       "      <td>&lt;NA&gt;</td>\n",
       "      <td>&lt;NA&gt;</td>\n",
       "      <td>48.1880</td>\n",
       "      <td>7.6977</td>\n",
       "      <td>173.0</td>\n",
       "      <td>Europe/Berlin</td>\n",
       "      <td>2005-04-01</td>\n",
       "      <td>2023-03-20</td>\n",
       "      <td>1992-06-01</td>\n",
       "      <td>2022-04-25</td>\n",
       "      <td>1992-01-01</td>\n",
       "      <td>2022-01-01</td>\n",
       "      <td>22552.944382</td>\n",
       "    </tr>\n",
       "    <tr>\n",
       "      <th>D2388</th>\n",
       "      <td>Ihringen</td>\n",
       "      <td>DE</td>\n",
       "      <td>BW</td>\n",
       "      <td>&lt;NA&gt;</td>\n",
       "      <td>&lt;NA&gt;</td>\n",
       "      <td>48.0419</td>\n",
       "      <td>7.6322</td>\n",
       "      <td>193.0</td>\n",
       "      <td>Europe/Berlin</td>\n",
       "      <td>1990-06-01</td>\n",
       "      <td>2023-03-20</td>\n",
       "      <td>1990-06-01</td>\n",
       "      <td>2022-04-26</td>\n",
       "      <td>1990-01-01</td>\n",
       "      <td>2022-01-01</td>\n",
       "      <td>28446.807592</td>\n",
       "    </tr>\n",
       "    <tr>\n",
       "      <th>D1224</th>\n",
       "      <td>Emmendingen-Mundingen</td>\n",
       "      <td>DE</td>\n",
       "      <td>BW</td>\n",
       "      <td>&lt;NA&gt;</td>\n",
       "      <td>&lt;NA&gt;</td>\n",
       "      <td>48.1378</td>\n",
       "      <td>7.8351</td>\n",
       "      <td>201.0</td>\n",
       "      <td>Europe/Berlin</td>\n",
       "      <td>2002-12-01</td>\n",
       "      <td>2023-03-20</td>\n",
       "      <td>1975-11-01</td>\n",
       "      <td>2023-03-20</td>\n",
       "      <td>1975-01-01</td>\n",
       "      <td>2022-01-01</td>\n",
       "      <td>34031.233244</td>\n",
       "    </tr>\n",
       "    <tr>\n",
       "      <th>10805</th>\n",
       "      <td>Lahr</td>\n",
       "      <td>DE</td>\n",
       "      <td>BW</td>\n",
       "      <td>10805</td>\n",
       "      <td>EDTL</td>\n",
       "      <td>48.3667</td>\n",
       "      <td>7.8333</td>\n",
       "      <td>155.0</td>\n",
       "      <td>Europe/Berlin</td>\n",
       "      <td>1973-01-01</td>\n",
       "      <td>2023-03-22</td>\n",
       "      <td>1950-01-01</td>\n",
       "      <td>2023-03-20</td>\n",
       "      <td>1950-01-01</td>\n",
       "      <td>2022-01-01</td>\n",
       "      <td>34097.386360</td>\n",
       "    </tr>\n",
       "    <tr>\n",
       "      <th>07197</th>\n",
       "      <td>Colmar</td>\n",
       "      <td>FR</td>\n",
       "      <td>A</td>\n",
       "      <td>07197</td>\n",
       "      <td>LFSC</td>\n",
       "      <td>47.9167</td>\n",
       "      <td>7.4000</td>\n",
       "      <td>211.0</td>\n",
       "      <td>Europe/Paris</td>\n",
       "      <td>1973-01-01</td>\n",
       "      <td>2023-02-05</td>\n",
       "      <td>1986-03-12</td>\n",
       "      <td>2022-03-28</td>\n",
       "      <td>2005-01-01</td>\n",
       "      <td>2021-01-01</td>\n",
       "      <td>36973.858585</td>\n",
       "    </tr>\n",
       "    <tr>\n",
       "      <th>07190</th>\n",
       "      <td>Strasbourg</td>\n",
       "      <td>FR</td>\n",
       "      <td>A</td>\n",
       "      <td>07190</td>\n",
       "      <td>LFST</td>\n",
       "      <td>48.5500</td>\n",
       "      <td>7.6333</td>\n",
       "      <td>153.0</td>\n",
       "      <td>Europe/Paris</td>\n",
       "      <td>1931-01-01</td>\n",
       "      <td>2023-03-22</td>\n",
       "      <td>1923-05-01</td>\n",
       "      <td>2023-03-16</td>\n",
       "      <td>1923-01-01</td>\n",
       "      <td>2022-01-01</td>\n",
       "      <td>37374.607862</td>\n",
       "    </tr>\n",
       "    <tr>\n",
       "      <th>99854</th>\n",
       "      <td>Neuhof</td>\n",
       "      <td>FR</td>\n",
       "      <td>A</td>\n",
       "      <td>99854</td>\n",
       "      <td>EQAE</td>\n",
       "      <td>48.5500</td>\n",
       "      <td>7.7600</td>\n",
       "      <td>139.0</td>\n",
       "      <td>Europe/Paris</td>\n",
       "      <td>2001-11-08</td>\n",
       "      <td>2002-04-25</td>\n",
       "      <td>NaT</td>\n",
       "      <td>NaT</td>\n",
       "      <td>NaT</td>\n",
       "      <td>NaT</td>\n",
       "      <td>42382.080180</td>\n",
       "    </tr>\n",
       "    <tr>\n",
       "      <th>10803</th>\n",
       "      <td>Freiburg</td>\n",
       "      <td>DE</td>\n",
       "      <td>BW</td>\n",
       "      <td>10803</td>\n",
       "      <td>EDTF</td>\n",
       "      <td>48.0000</td>\n",
       "      <td>7.8500</td>\n",
       "      <td>269.0</td>\n",
       "      <td>Europe/Berlin</td>\n",
       "      <td>1949-01-01</td>\n",
       "      <td>2023-03-22</td>\n",
       "      <td>1874-01-01</td>\n",
       "      <td>2023-03-20</td>\n",
       "      <td>1874-01-01</td>\n",
       "      <td>2022-01-01</td>\n",
       "      <td>42971.621129</td>\n",
       "    </tr>\n",
       "    <tr>\n",
       "      <th>D1602</th>\n",
       "      <td>Ohlsbach</td>\n",
       "      <td>DE</td>\n",
       "      <td>BW</td>\n",
       "      <td>&lt;NA&gt;</td>\n",
       "      <td>&lt;NA&gt;</td>\n",
       "      <td>48.4329</td>\n",
       "      <td>7.9931</td>\n",
       "      <td>176.0</td>\n",
       "      <td>Europe/Berlin</td>\n",
       "      <td>2004-07-01</td>\n",
       "      <td>2023-03-20</td>\n",
       "      <td>1970-01-01</td>\n",
       "      <td>2023-03-20</td>\n",
       "      <td>1970-01-01</td>\n",
       "      <td>2022-01-01</td>\n",
       "      <td>47863.015326</td>\n",
       "    </tr>\n",
       "  </tbody>\n",
       "</table>\n",
       "</div>"
      ],
      "text/plain": [
       "                        name country region    wmo  icao  latitude  longitude  \\\n",
       "id                                                                              \n",
       "LFGA0       Colmar / Houssen      FR      A   <NA>  LFGA   48.1099     7.3590   \n",
       "D5453    Weisweil-Waldeckhof      DE     BW   <NA>  <NA>   48.1880     7.6977   \n",
       "D2388               Ihringen      DE     BW   <NA>  <NA>   48.0419     7.6322   \n",
       "D1224  Emmendingen-Mundingen      DE     BW   <NA>  <NA>   48.1378     7.8351   \n",
       "10805                   Lahr      DE     BW  10805  EDTL   48.3667     7.8333   \n",
       "07197                 Colmar      FR      A  07197  LFSC   47.9167     7.4000   \n",
       "07190             Strasbourg      FR      A  07190  LFST   48.5500     7.6333   \n",
       "99854                 Neuhof      FR      A  99854  EQAE   48.5500     7.7600   \n",
       "10803               Freiburg      DE     BW  10803  EDTF   48.0000     7.8500   \n",
       "D1602               Ohlsbach      DE     BW   <NA>  <NA>   48.4329     7.9931   \n",
       "\n",
       "       elevation       timezone hourly_start hourly_end daily_start  \\\n",
       "id                                                                    \n",
       "LFGA0      191.0   Europe/Paris   2020-01-14 2023-03-22  2020-01-14   \n",
       "D5453      173.0  Europe/Berlin   2005-04-01 2023-03-20  1992-06-01   \n",
       "D2388      193.0  Europe/Berlin   1990-06-01 2023-03-20  1990-06-01   \n",
       "D1224      201.0  Europe/Berlin   2002-12-01 2023-03-20  1975-11-01   \n",
       "10805      155.0  Europe/Berlin   1973-01-01 2023-03-22  1950-01-01   \n",
       "07197      211.0   Europe/Paris   1973-01-01 2023-02-05  1986-03-12   \n",
       "07190      153.0   Europe/Paris   1931-01-01 2023-03-22  1923-05-01   \n",
       "99854      139.0   Europe/Paris   2001-11-08 2002-04-25         NaT   \n",
       "10803      269.0  Europe/Berlin   1949-01-01 2023-03-22  1874-01-01   \n",
       "D1602      176.0  Europe/Berlin   2004-07-01 2023-03-20  1970-01-01   \n",
       "\n",
       "       daily_end monthly_start monthly_end      distance  \n",
       "id                                                        \n",
       "LFGA0 2022-04-25    2020-01-01  2022-01-01  15898.343254  \n",
       "D5453 2022-04-25    1992-01-01  2022-01-01  22552.944382  \n",
       "D2388 2022-04-26    1990-01-01  2022-01-01  28446.807592  \n",
       "D1224 2023-03-20    1975-01-01  2022-01-01  34031.233244  \n",
       "10805 2023-03-20    1950-01-01  2022-01-01  34097.386360  \n",
       "07197 2022-03-28    2005-01-01  2021-01-01  36973.858585  \n",
       "07190 2023-03-16    1923-01-01  2022-01-01  37374.607862  \n",
       "99854        NaT           NaT         NaT  42382.080180  \n",
       "10803 2023-03-20    1874-01-01  2022-01-01  42971.621129  \n",
       "D1602 2023-03-20    1970-01-01  2022-01-01  47863.015326  "
      ]
     },
     "execution_count": 3,
     "metadata": {},
     "output_type": "execute_result"
    }
   ],
   "source": [
    "station"
   ]
  },
  {
   "cell_type": "code",
   "execution_count": 4,
   "metadata": {},
   "outputs": [],
   "source": [
    "from datetime import datetime, timedelta\n",
    "import numpy as np\n",
    "\n",
    "# Set time period\n",
    "start = datetime(2000, 1, 1)\n",
    "end = datetime(2022, 12, 31)\n",
    "\n",
    "# Get Daily data\n",
    "data = Daily(station.index.values[0], start, end)\n",
    "data = data.fetch()\n",
    "data = data.reset_index()\n",
    "data = data[['time','tavg', 'tmin', 'tmax']]\n"
   ]
  },
  {
   "cell_type": "code",
   "execution_count": 41,
   "metadata": {},
   "outputs": [
    {
     "name": "stdout",
     "output_type": "stream",
     "text": [
      "Some dates not recorded: 5.89%\n"
     ]
    }
   ],
   "source": [
    "#data['time']\n",
    "\n",
    "start = datetime(2000, 1, 1)\n",
    "end = datetime(2022, 12, 31)\n",
    "\n",
    "dates = pd.date_range(start='2000-01-01', end='2022-12-31')\n",
    "\n",
    "\n",
    "\n",
    "data = pd.DataFrame(columns=['time','tavg', 'tmin', 'tmax'], dtype='datetime64[ns]')\n",
    "while (data['time'].empty) | (data['time'].min() > start) :\n",
    "    if i <= len(station.index) - 1:\n",
    "        next_data = Daily(station.index.values[i], start, end)\n",
    "        next_data = next_data.fetch()\n",
    "        next_data = next_data.reset_index()\n",
    "        next_data = next_data[['time','tavg', 'tmin', 'tmax']]\n",
    "        data = pd.concat([next_data, data])\n",
    "        end = data['time'][0] - pd.Timedelta(days=1)\n",
    "        i = i + 1\n",
    "    else:\n",
    "        break\n",
    "if not dates.isin(data['time']).all():\n",
    "    print(f'Some dates not recorded: {round(100*len(dates[~dates.isin(data[\"time\"])])/len(dates),2)}%')"
   ]
  },
  {
   "cell_type": "code",
   "execution_count": 46,
   "metadata": {},
   "outputs": [
    {
     "data": {
      "text/html": [
       "<div>\n",
       "<style scoped>\n",
       "    .dataframe tbody tr th:only-of-type {\n",
       "        vertical-align: middle;\n",
       "    }\n",
       "\n",
       "    .dataframe tbody tr th {\n",
       "        vertical-align: top;\n",
       "    }\n",
       "\n",
       "    .dataframe thead th {\n",
       "        text-align: right;\n",
       "    }\n",
       "</style>\n",
       "<table border=\"1\" class=\"dataframe\">\n",
       "  <thead>\n",
       "    <tr style=\"text-align: right;\">\n",
       "      <th></th>\n",
       "      <th>time</th>\n",
       "      <th>tavg</th>\n",
       "      <th>tmin</th>\n",
       "      <th>tmax</th>\n",
       "    </tr>\n",
       "  </thead>\n",
       "  <tbody>\n",
       "    <tr>\n",
       "      <th>0</th>\n",
       "      <td>2000-01-01</td>\n",
       "      <td>4.6</td>\n",
       "      <td>2.0</td>\n",
       "      <td>5.9</td>\n",
       "    </tr>\n",
       "    <tr>\n",
       "      <th>1</th>\n",
       "      <td>2000-01-02</td>\n",
       "      <td>3.7</td>\n",
       "      <td>1.5</td>\n",
       "      <td>6.5</td>\n",
       "    </tr>\n",
       "    <tr>\n",
       "      <th>2</th>\n",
       "      <td>2000-01-03</td>\n",
       "      <td>1.6</td>\n",
       "      <td>-0.5</td>\n",
       "      <td>5.4</td>\n",
       "    </tr>\n",
       "    <tr>\n",
       "      <th>3</th>\n",
       "      <td>2000-01-04</td>\n",
       "      <td>7.3</td>\n",
       "      <td>-1.0</td>\n",
       "      <td>10.0</td>\n",
       "    </tr>\n",
       "    <tr>\n",
       "      <th>4</th>\n",
       "      <td>2000-01-05</td>\n",
       "      <td>6.0</td>\n",
       "      <td>3.4</td>\n",
       "      <td>11.0</td>\n",
       "    </tr>\n",
       "    <tr>\n",
       "      <th>...</th>\n",
       "      <td>...</td>\n",
       "      <td>...</td>\n",
       "      <td>...</td>\n",
       "      <td>...</td>\n",
       "    </tr>\n",
       "    <tr>\n",
       "      <th>7901</th>\n",
       "      <td>2022-12-27</td>\n",
       "      <td>4.7</td>\n",
       "      <td>2.2</td>\n",
       "      <td>7.8</td>\n",
       "    </tr>\n",
       "    <tr>\n",
       "      <th>7902</th>\n",
       "      <td>2022-12-28</td>\n",
       "      <td>7.7</td>\n",
       "      <td>3.3</td>\n",
       "      <td>10.8</td>\n",
       "    </tr>\n",
       "    <tr>\n",
       "      <th>7903</th>\n",
       "      <td>2022-12-29</td>\n",
       "      <td>11.0</td>\n",
       "      <td>8.5</td>\n",
       "      <td>13.0</td>\n",
       "    </tr>\n",
       "    <tr>\n",
       "      <th>7904</th>\n",
       "      <td>2022-12-30</td>\n",
       "      <td>9.0</td>\n",
       "      <td>5.8</td>\n",
       "      <td>12.4</td>\n",
       "    </tr>\n",
       "    <tr>\n",
       "      <th>7905</th>\n",
       "      <td>2022-12-31</td>\n",
       "      <td>14.6</td>\n",
       "      <td>12.8</td>\n",
       "      <td>17.4</td>\n",
       "    </tr>\n",
       "  </tbody>\n",
       "</table>\n",
       "<p>7906 rows × 4 columns</p>\n",
       "</div>"
      ],
      "text/plain": [
       "           time  tavg  tmin  tmax\n",
       "0    2000-01-01   4.6   2.0   5.9\n",
       "1    2000-01-02   3.7   1.5   6.5\n",
       "2    2000-01-03   1.6  -0.5   5.4\n",
       "3    2000-01-04   7.3  -1.0  10.0\n",
       "4    2000-01-05   6.0   3.4  11.0\n",
       "...         ...   ...   ...   ...\n",
       "7901 2022-12-27   4.7   2.2   7.8\n",
       "7902 2022-12-28   7.7   3.3  10.8\n",
       "7903 2022-12-29  11.0   8.5  13.0\n",
       "7904 2022-12-30   9.0   5.8  12.4\n",
       "7905 2022-12-31  14.6  12.8  17.4\n",
       "\n",
       "[7906 rows x 4 columns]"
      ]
     },
     "execution_count": 46,
     "metadata": {},
     "output_type": "execute_result"
    }
   ],
   "source": [
    "next_data"
   ]
  },
  {
   "cell_type": "code",
   "execution_count": 4,
   "metadata": {},
   "outputs": [],
   "source": [
    "data['year'] = data['time'].dt.year\n",
    "data['month'] = data['time'].dt.month"
   ]
  },
  {
   "cell_type": "code",
   "execution_count": 5,
   "metadata": {},
   "outputs": [],
   "source": [
    "data_month_year = data.groupby(['year', 'month'])[['tavg', 'tmin', 'tmax']].mean().reset_index()"
   ]
  },
  {
   "cell_type": "code",
   "execution_count": 6,
   "metadata": {},
   "outputs": [],
   "source": [
    "data_month = data_month_year.groupby('month')[['tavg', 'tmin', 'tmax']].mean().reset_index()\n",
    "data_month.columns = ['month', 'tavg_month', 'tmin_month', 'tmax_month']\n",
    "data_month_year = data_month_year.merge(data_month, how = 'left', on = 'month')"
   ]
  },
  {
   "cell_type": "code",
   "execution_count": 7,
   "metadata": {},
   "outputs": [],
   "source": [
    "data_month_year['tflux_month'] = data_month_year['tavg'] - data_month_year['tavg_month']"
   ]
  },
  {
   "cell_type": "code",
   "execution_count": 57,
   "metadata": {},
   "outputs": [],
   "source": [
    "data_month_year = pd.read_csv('data/france_regions_weather_data.csv')"
   ]
  },
  {
   "cell_type": "code",
   "execution_count": 58,
   "metadata": {},
   "outputs": [],
   "source": [
    "convert_months = {\n",
    "    1:\"Jan\",\n",
    "    2:\"Feb\",\n",
    "    3:\"Mar\",\n",
    "    4:\"Apr\",\n",
    "    5:\"May\",\n",
    "    6:\"Jun\", \n",
    "    7:\"July\",\n",
    "    8:\"Aug\",\n",
    "    9:\"Sep\",\n",
    "    10:\"Oct\",\n",
    "    11:\"Nov\",\n",
    "    12:\"Dec\"\n",
    "}\n",
    "data_month_year['month'] = data_month_year['month'].replace(convert_months)"
   ]
  },
  {
   "cell_type": "code",
   "execution_count": 62,
   "metadata": {},
   "outputs": [
    {
     "data": {
      "text/html": [
       "<div>\n",
       "<style scoped>\n",
       "    .dataframe tbody tr th:only-of-type {\n",
       "        vertical-align: middle;\n",
       "    }\n",
       "\n",
       "    .dataframe tbody tr th {\n",
       "        vertical-align: top;\n",
       "    }\n",
       "\n",
       "    .dataframe thead th {\n",
       "        text-align: right;\n",
       "    }\n",
       "</style>\n",
       "<table border=\"1\" class=\"dataframe\">\n",
       "  <thead>\n",
       "    <tr style=\"text-align: right;\">\n",
       "      <th></th>\n",
       "      <th>year</th>\n",
       "      <th>month</th>\n",
       "      <th>location</th>\n",
       "      <th>tavg</th>\n",
       "      <th>tmin</th>\n",
       "      <th>tmax</th>\n",
       "      <th>tavg_month</th>\n",
       "      <th>tmin_month</th>\n",
       "      <th>tmax_month</th>\n",
       "    </tr>\n",
       "  </thead>\n",
       "  <tbody>\n",
       "    <tr>\n",
       "      <th>0</th>\n",
       "      <td>2020</td>\n",
       "      <td>Jan</td>\n",
       "      <td>Alsace, France</td>\n",
       "      <td>4.411765</td>\n",
       "      <td>0.705882</td>\n",
       "      <td>8.058824</td>\n",
       "      <td>3.072739</td>\n",
       "      <td>-0.251803</td>\n",
       "      <td>6.333586</td>\n",
       "    </tr>\n",
       "    <tr>\n",
       "      <th>1</th>\n",
       "      <td>2020</td>\n",
       "      <td>Feb</td>\n",
       "      <td>Alsace, France</td>\n",
       "      <td>7.903448</td>\n",
       "      <td>3.862069</td>\n",
       "      <td>12.413793</td>\n",
       "      <td>6.572578</td>\n",
       "      <td>2.382594</td>\n",
       "      <td>11.006979</td>\n",
       "    </tr>\n",
       "    <tr>\n",
       "      <th>2</th>\n",
       "      <td>2020</td>\n",
       "      <td>Mar</td>\n",
       "      <td>Alsace, France</td>\n",
       "      <td>7.846667</td>\n",
       "      <td>3.200000</td>\n",
       "      <td>12.533333</td>\n",
       "      <td>7.562222</td>\n",
       "      <td>2.433333</td>\n",
       "      <td>12.664444</td>\n",
       "    </tr>\n",
       "    <tr>\n",
       "      <th>3</th>\n",
       "      <td>2020</td>\n",
       "      <td>Apr</td>\n",
       "      <td>Alsace, France</td>\n",
       "      <td>14.539130</td>\n",
       "      <td>7.130435</td>\n",
       "      <td>21.391304</td>\n",
       "      <td>11.443043</td>\n",
       "      <td>5.503478</td>\n",
       "      <td>17.138213</td>\n",
       "    </tr>\n",
       "    <tr>\n",
       "      <th>4</th>\n",
       "      <td>2020</td>\n",
       "      <td>May</td>\n",
       "      <td>Alsace, France</td>\n",
       "      <td>16.219048</td>\n",
       "      <td>10.190476</td>\n",
       "      <td>21.761905</td>\n",
       "      <td>15.567640</td>\n",
       "      <td>9.951664</td>\n",
       "      <td>20.888377</td>\n",
       "    </tr>\n",
       "    <tr>\n",
       "      <th>5</th>\n",
       "      <td>2020</td>\n",
       "      <td>Jun</td>\n",
       "      <td>Alsace, France</td>\n",
       "      <td>18.740000</td>\n",
       "      <td>13.920000</td>\n",
       "      <td>23.520000</td>\n",
       "      <td>20.365556</td>\n",
       "      <td>15.063333</td>\n",
       "      <td>25.711111</td>\n",
       "    </tr>\n",
       "    <tr>\n",
       "      <th>6</th>\n",
       "      <td>2020</td>\n",
       "      <td>July</td>\n",
       "      <td>Alsace, France</td>\n",
       "      <td>21.712000</td>\n",
       "      <td>15.280000</td>\n",
       "      <td>27.440000</td>\n",
       "      <td>21.396473</td>\n",
       "      <td>15.619140</td>\n",
       "      <td>26.791828</td>\n",
       "    </tr>\n",
       "    <tr>\n",
       "      <th>7</th>\n",
       "      <td>2020</td>\n",
       "      <td>Aug</td>\n",
       "      <td>Alsace, France</td>\n",
       "      <td>22.904762</td>\n",
       "      <td>17.000000</td>\n",
       "      <td>28.666667</td>\n",
       "      <td>21.529544</td>\n",
       "      <td>16.192473</td>\n",
       "      <td>26.867384</td>\n",
       "    </tr>\n",
       "    <tr>\n",
       "      <th>8</th>\n",
       "      <td>2020</td>\n",
       "      <td>Sep</td>\n",
       "      <td>Alsace, France</td>\n",
       "      <td>17.762963</td>\n",
       "      <td>12.148148</td>\n",
       "      <td>23.444444</td>\n",
       "      <td>17.114321</td>\n",
       "      <td>11.854938</td>\n",
       "      <td>22.477037</td>\n",
       "    </tr>\n",
       "    <tr>\n",
       "      <th>9</th>\n",
       "      <td>2020</td>\n",
       "      <td>Oct</td>\n",
       "      <td>Alsace, France</td>\n",
       "      <td>11.708696</td>\n",
       "      <td>8.043478</td>\n",
       "      <td>15.347826</td>\n",
       "      <td>12.579243</td>\n",
       "      <td>8.052127</td>\n",
       "      <td>17.599813</td>\n",
       "    </tr>\n",
       "    <tr>\n",
       "      <th>10</th>\n",
       "      <td>2020</td>\n",
       "      <td>Nov</td>\n",
       "      <td>Alsace, France</td>\n",
       "      <td>7.064000</td>\n",
       "      <td>3.360000</td>\n",
       "      <td>11.200000</td>\n",
       "      <td>6.780222</td>\n",
       "      <td>3.464444</td>\n",
       "      <td>10.240000</td>\n",
       "    </tr>\n",
       "    <tr>\n",
       "      <th>11</th>\n",
       "      <td>2020</td>\n",
       "      <td>Dec</td>\n",
       "      <td>Alsace, France</td>\n",
       "      <td>4.729032</td>\n",
       "      <td>1.903226</td>\n",
       "      <td>7.677419</td>\n",
       "      <td>4.276344</td>\n",
       "      <td>1.439785</td>\n",
       "      <td>6.978495</td>\n",
       "    </tr>\n",
       "    <tr>\n",
       "      <th>12</th>\n",
       "      <td>2021</td>\n",
       "      <td>Jan</td>\n",
       "      <td>Alsace, France</td>\n",
       "      <td>2.280645</td>\n",
       "      <td>-0.654839</td>\n",
       "      <td>4.780645</td>\n",
       "      <td>3.072739</td>\n",
       "      <td>-0.251803</td>\n",
       "      <td>6.333586</td>\n",
       "    </tr>\n",
       "    <tr>\n",
       "      <th>13</th>\n",
       "      <td>2021</td>\n",
       "      <td>Feb</td>\n",
       "      <td>Alsace, France</td>\n",
       "      <td>5.407143</td>\n",
       "      <td>1.178571</td>\n",
       "      <td>9.821429</td>\n",
       "      <td>6.572578</td>\n",
       "      <td>2.382594</td>\n",
       "      <td>11.006979</td>\n",
       "    </tr>\n",
       "    <tr>\n",
       "      <th>14</th>\n",
       "      <td>2021</td>\n",
       "      <td>Mar</td>\n",
       "      <td>Alsace, France</td>\n",
       "      <td>6.816667</td>\n",
       "      <td>1.900000</td>\n",
       "      <td>11.526667</td>\n",
       "      <td>7.562222</td>\n",
       "      <td>2.433333</td>\n",
       "      <td>12.664444</td>\n",
       "    </tr>\n",
       "    <tr>\n",
       "      <th>15</th>\n",
       "      <td>2021</td>\n",
       "      <td>Apr</td>\n",
       "      <td>Alsace, France</td>\n",
       "      <td>8.970000</td>\n",
       "      <td>3.680000</td>\n",
       "      <td>14.423333</td>\n",
       "      <td>11.443043</td>\n",
       "      <td>5.503478</td>\n",
       "      <td>17.138213</td>\n",
       "    </tr>\n",
       "    <tr>\n",
       "      <th>16</th>\n",
       "      <td>2021</td>\n",
       "      <td>May</td>\n",
       "      <td>Alsace, France</td>\n",
       "      <td>12.432258</td>\n",
       "      <td>7.935484</td>\n",
       "      <td>17.096774</td>\n",
       "      <td>15.567640</td>\n",
       "      <td>9.951664</td>\n",
       "      <td>20.888377</td>\n",
       "    </tr>\n",
       "    <tr>\n",
       "      <th>17</th>\n",
       "      <td>2021</td>\n",
       "      <td>Jun</td>\n",
       "      <td>Alsace, France</td>\n",
       "      <td>20.826667</td>\n",
       "      <td>15.833333</td>\n",
       "      <td>26.066667</td>\n",
       "      <td>20.365556</td>\n",
       "      <td>15.063333</td>\n",
       "      <td>25.711111</td>\n",
       "    </tr>\n",
       "    <tr>\n",
       "      <th>18</th>\n",
       "      <td>2021</td>\n",
       "      <td>July</td>\n",
       "      <td>Alsace, France</td>\n",
       "      <td>19.516129</td>\n",
       "      <td>14.996774</td>\n",
       "      <td>24.225806</td>\n",
       "      <td>21.396473</td>\n",
       "      <td>15.619140</td>\n",
       "      <td>26.791828</td>\n",
       "    </tr>\n",
       "    <tr>\n",
       "      <th>19</th>\n",
       "      <td>2021</td>\n",
       "      <td>Aug</td>\n",
       "      <td>Alsace, France</td>\n",
       "      <td>18.535484</td>\n",
       "      <td>14.419355</td>\n",
       "      <td>22.806452</td>\n",
       "      <td>21.529544</td>\n",
       "      <td>16.192473</td>\n",
       "      <td>26.867384</td>\n",
       "    </tr>\n",
       "    <tr>\n",
       "      <th>20</th>\n",
       "      <td>2021</td>\n",
       "      <td>Sep</td>\n",
       "      <td>Alsace, France</td>\n",
       "      <td>17.366667</td>\n",
       "      <td>11.760000</td>\n",
       "      <td>22.933333</td>\n",
       "      <td>17.114321</td>\n",
       "      <td>11.854938</td>\n",
       "      <td>22.477037</td>\n",
       "    </tr>\n",
       "    <tr>\n",
       "      <th>21</th>\n",
       "      <td>2021</td>\n",
       "      <td>Oct</td>\n",
       "      <td>Alsace, France</td>\n",
       "      <td>10.780645</td>\n",
       "      <td>5.564516</td>\n",
       "      <td>16.709677</td>\n",
       "      <td>12.579243</td>\n",
       "      <td>8.052127</td>\n",
       "      <td>17.599813</td>\n",
       "    </tr>\n",
       "    <tr>\n",
       "      <th>22</th>\n",
       "      <td>2021</td>\n",
       "      <td>Nov</td>\n",
       "      <td>Alsace, France</td>\n",
       "      <td>4.660000</td>\n",
       "      <td>1.800000</td>\n",
       "      <td>7.586667</td>\n",
       "      <td>6.780222</td>\n",
       "      <td>3.464444</td>\n",
       "      <td>10.240000</td>\n",
       "    </tr>\n",
       "    <tr>\n",
       "      <th>23</th>\n",
       "      <td>2021</td>\n",
       "      <td>Dec</td>\n",
       "      <td>Alsace, France</td>\n",
       "      <td>4.329032</td>\n",
       "      <td>1.483871</td>\n",
       "      <td>7.129032</td>\n",
       "      <td>4.276344</td>\n",
       "      <td>1.439785</td>\n",
       "      <td>6.978495</td>\n",
       "    </tr>\n",
       "    <tr>\n",
       "      <th>24</th>\n",
       "      <td>2022</td>\n",
       "      <td>Jan</td>\n",
       "      <td>Alsace, France</td>\n",
       "      <td>2.525806</td>\n",
       "      <td>-0.806452</td>\n",
       "      <td>6.161290</td>\n",
       "      <td>3.072739</td>\n",
       "      <td>-0.251803</td>\n",
       "      <td>6.333586</td>\n",
       "    </tr>\n",
       "    <tr>\n",
       "      <th>25</th>\n",
       "      <td>2022</td>\n",
       "      <td>Feb</td>\n",
       "      <td>Alsace, France</td>\n",
       "      <td>6.407143</td>\n",
       "      <td>2.107143</td>\n",
       "      <td>10.785714</td>\n",
       "      <td>6.572578</td>\n",
       "      <td>2.382594</td>\n",
       "      <td>11.006979</td>\n",
       "    </tr>\n",
       "    <tr>\n",
       "      <th>26</th>\n",
       "      <td>2022</td>\n",
       "      <td>Mar</td>\n",
       "      <td>Alsace, France</td>\n",
       "      <td>8.023333</td>\n",
       "      <td>2.200000</td>\n",
       "      <td>13.933333</td>\n",
       "      <td>7.562222</td>\n",
       "      <td>2.433333</td>\n",
       "      <td>12.664444</td>\n",
       "    </tr>\n",
       "    <tr>\n",
       "      <th>27</th>\n",
       "      <td>2022</td>\n",
       "      <td>Apr</td>\n",
       "      <td>Alsace, France</td>\n",
       "      <td>10.820000</td>\n",
       "      <td>5.700000</td>\n",
       "      <td>15.600000</td>\n",
       "      <td>11.443043</td>\n",
       "      <td>5.503478</td>\n",
       "      <td>17.138213</td>\n",
       "    </tr>\n",
       "    <tr>\n",
       "      <th>28</th>\n",
       "      <td>2022</td>\n",
       "      <td>May</td>\n",
       "      <td>Alsace, France</td>\n",
       "      <td>18.051613</td>\n",
       "      <td>11.729032</td>\n",
       "      <td>23.806452</td>\n",
       "      <td>15.567640</td>\n",
       "      <td>9.951664</td>\n",
       "      <td>20.888377</td>\n",
       "    </tr>\n",
       "    <tr>\n",
       "      <th>29</th>\n",
       "      <td>2022</td>\n",
       "      <td>Jun</td>\n",
       "      <td>Alsace, France</td>\n",
       "      <td>21.530000</td>\n",
       "      <td>15.436667</td>\n",
       "      <td>27.546667</td>\n",
       "      <td>20.365556</td>\n",
       "      <td>15.063333</td>\n",
       "      <td>25.711111</td>\n",
       "    </tr>\n",
       "    <tr>\n",
       "      <th>30</th>\n",
       "      <td>2022</td>\n",
       "      <td>July</td>\n",
       "      <td>Alsace, France</td>\n",
       "      <td>22.961290</td>\n",
       "      <td>16.580645</td>\n",
       "      <td>28.709677</td>\n",
       "      <td>21.396473</td>\n",
       "      <td>15.619140</td>\n",
       "      <td>26.791828</td>\n",
       "    </tr>\n",
       "    <tr>\n",
       "      <th>31</th>\n",
       "      <td>2022</td>\n",
       "      <td>Aug</td>\n",
       "      <td>Alsace, France</td>\n",
       "      <td>23.148387</td>\n",
       "      <td>17.158065</td>\n",
       "      <td>29.129032</td>\n",
       "      <td>21.529544</td>\n",
       "      <td>16.192473</td>\n",
       "      <td>26.867384</td>\n",
       "    </tr>\n",
       "    <tr>\n",
       "      <th>32</th>\n",
       "      <td>2022</td>\n",
       "      <td>Sep</td>\n",
       "      <td>Alsace, France</td>\n",
       "      <td>16.213333</td>\n",
       "      <td>11.656667</td>\n",
       "      <td>21.053333</td>\n",
       "      <td>17.114321</td>\n",
       "      <td>11.854938</td>\n",
       "      <td>22.477037</td>\n",
       "    </tr>\n",
       "    <tr>\n",
       "      <th>33</th>\n",
       "      <td>2022</td>\n",
       "      <td>Oct</td>\n",
       "      <td>Alsace, France</td>\n",
       "      <td>15.248387</td>\n",
       "      <td>10.548387</td>\n",
       "      <td>20.741935</td>\n",
       "      <td>12.579243</td>\n",
       "      <td>8.052127</td>\n",
       "      <td>17.599813</td>\n",
       "    </tr>\n",
       "    <tr>\n",
       "      <th>34</th>\n",
       "      <td>2022</td>\n",
       "      <td>Nov</td>\n",
       "      <td>Alsace, France</td>\n",
       "      <td>8.616667</td>\n",
       "      <td>5.233333</td>\n",
       "      <td>11.933333</td>\n",
       "      <td>6.780222</td>\n",
       "      <td>3.464444</td>\n",
       "      <td>10.240000</td>\n",
       "    </tr>\n",
       "    <tr>\n",
       "      <th>35</th>\n",
       "      <td>2022</td>\n",
       "      <td>Dec</td>\n",
       "      <td>Alsace, France</td>\n",
       "      <td>3.770968</td>\n",
       "      <td>0.932258</td>\n",
       "      <td>6.129032</td>\n",
       "      <td>4.276344</td>\n",
       "      <td>1.439785</td>\n",
       "      <td>6.978495</td>\n",
       "    </tr>\n",
       "  </tbody>\n",
       "</table>\n",
       "</div>"
      ],
      "text/plain": [
       "    year month        location       tavg       tmin       tmax  tavg_month  \\\n",
       "0   2020   Jan  Alsace, France   4.411765   0.705882   8.058824    3.072739   \n",
       "1   2020   Feb  Alsace, France   7.903448   3.862069  12.413793    6.572578   \n",
       "2   2020   Mar  Alsace, France   7.846667   3.200000  12.533333    7.562222   \n",
       "3   2020   Apr  Alsace, France  14.539130   7.130435  21.391304   11.443043   \n",
       "4   2020   May  Alsace, France  16.219048  10.190476  21.761905   15.567640   \n",
       "5   2020   Jun  Alsace, France  18.740000  13.920000  23.520000   20.365556   \n",
       "6   2020  July  Alsace, France  21.712000  15.280000  27.440000   21.396473   \n",
       "7   2020   Aug  Alsace, France  22.904762  17.000000  28.666667   21.529544   \n",
       "8   2020   Sep  Alsace, France  17.762963  12.148148  23.444444   17.114321   \n",
       "9   2020   Oct  Alsace, France  11.708696   8.043478  15.347826   12.579243   \n",
       "10  2020   Nov  Alsace, France   7.064000   3.360000  11.200000    6.780222   \n",
       "11  2020   Dec  Alsace, France   4.729032   1.903226   7.677419    4.276344   \n",
       "12  2021   Jan  Alsace, France   2.280645  -0.654839   4.780645    3.072739   \n",
       "13  2021   Feb  Alsace, France   5.407143   1.178571   9.821429    6.572578   \n",
       "14  2021   Mar  Alsace, France   6.816667   1.900000  11.526667    7.562222   \n",
       "15  2021   Apr  Alsace, France   8.970000   3.680000  14.423333   11.443043   \n",
       "16  2021   May  Alsace, France  12.432258   7.935484  17.096774   15.567640   \n",
       "17  2021   Jun  Alsace, France  20.826667  15.833333  26.066667   20.365556   \n",
       "18  2021  July  Alsace, France  19.516129  14.996774  24.225806   21.396473   \n",
       "19  2021   Aug  Alsace, France  18.535484  14.419355  22.806452   21.529544   \n",
       "20  2021   Sep  Alsace, France  17.366667  11.760000  22.933333   17.114321   \n",
       "21  2021   Oct  Alsace, France  10.780645   5.564516  16.709677   12.579243   \n",
       "22  2021   Nov  Alsace, France   4.660000   1.800000   7.586667    6.780222   \n",
       "23  2021   Dec  Alsace, France   4.329032   1.483871   7.129032    4.276344   \n",
       "24  2022   Jan  Alsace, France   2.525806  -0.806452   6.161290    3.072739   \n",
       "25  2022   Feb  Alsace, France   6.407143   2.107143  10.785714    6.572578   \n",
       "26  2022   Mar  Alsace, France   8.023333   2.200000  13.933333    7.562222   \n",
       "27  2022   Apr  Alsace, France  10.820000   5.700000  15.600000   11.443043   \n",
       "28  2022   May  Alsace, France  18.051613  11.729032  23.806452   15.567640   \n",
       "29  2022   Jun  Alsace, France  21.530000  15.436667  27.546667   20.365556   \n",
       "30  2022  July  Alsace, France  22.961290  16.580645  28.709677   21.396473   \n",
       "31  2022   Aug  Alsace, France  23.148387  17.158065  29.129032   21.529544   \n",
       "32  2022   Sep  Alsace, France  16.213333  11.656667  21.053333   17.114321   \n",
       "33  2022   Oct  Alsace, France  15.248387  10.548387  20.741935   12.579243   \n",
       "34  2022   Nov  Alsace, France   8.616667   5.233333  11.933333    6.780222   \n",
       "35  2022   Dec  Alsace, France   3.770968   0.932258   6.129032    4.276344   \n",
       "\n",
       "    tmin_month  tmax_month  \n",
       "0    -0.251803    6.333586  \n",
       "1     2.382594   11.006979  \n",
       "2     2.433333   12.664444  \n",
       "3     5.503478   17.138213  \n",
       "4     9.951664   20.888377  \n",
       "5    15.063333   25.711111  \n",
       "6    15.619140   26.791828  \n",
       "7    16.192473   26.867384  \n",
       "8    11.854938   22.477037  \n",
       "9     8.052127   17.599813  \n",
       "10    3.464444   10.240000  \n",
       "11    1.439785    6.978495  \n",
       "12   -0.251803    6.333586  \n",
       "13    2.382594   11.006979  \n",
       "14    2.433333   12.664444  \n",
       "15    5.503478   17.138213  \n",
       "16    9.951664   20.888377  \n",
       "17   15.063333   25.711111  \n",
       "18   15.619140   26.791828  \n",
       "19   16.192473   26.867384  \n",
       "20   11.854938   22.477037  \n",
       "21    8.052127   17.599813  \n",
       "22    3.464444   10.240000  \n",
       "23    1.439785    6.978495  \n",
       "24   -0.251803    6.333586  \n",
       "25    2.382594   11.006979  \n",
       "26    2.433333   12.664444  \n",
       "27    5.503478   17.138213  \n",
       "28    9.951664   20.888377  \n",
       "29   15.063333   25.711111  \n",
       "30   15.619140   26.791828  \n",
       "31   16.192473   26.867384  \n",
       "32   11.854938   22.477037  \n",
       "33    8.052127   17.599813  \n",
       "34    3.464444   10.240000  \n",
       "35    1.439785    6.978495  "
      ]
     },
     "execution_count": 62,
     "metadata": {},
     "output_type": "execute_result"
    }
   ],
   "source": [
    "data_month_year[(data_month_year['location'] == 'Alsace, France')]"
   ]
  },
  {
   "cell_type": "code",
   "execution_count": 60,
   "metadata": {},
   "outputs": [
    {
     "data": {
      "application/vnd.plotly.v1+json": {
       "config": {
        "plotlyServerURL": "https://plot.ly"
       },
       "data": [
        {
         "type": "scatter",
         "x": [],
         "y": []
        },
        {
         "type": "scatter",
         "x": [],
         "y": []
        }
       ],
       "layout": {
        "annotations": [
         {
          "showarrow": false,
          "text": "Growth Cycle Start",
          "x": "Mar",
          "y": 45
         },
         {
          "showarrow": false,
          "text": "Harvest",
          "x": "Oct",
          "y": 45
         }
        ],
        "plot_bgcolor": "#FFFFFF",
        "shapes": [
         {
          "fillcolor": "#ffffe0",
          "line": {
           "width": 0
          },
          "opacity": 0.5,
          "type": "rect",
          "x0": "Mar",
          "x1": "Oct",
          "xref": "x",
          "y0": 0,
          "y1": 1,
          "yref": "paper"
         },
         {
          "line": {
           "dash": "dash"
          },
          "type": "line",
          "x0": "Mar",
          "x1": "Mar",
          "xref": "x",
          "y0": 0,
          "y1": 1,
          "yref": "y domain"
         },
         {
          "line": {
           "dash": "dash"
          },
          "type": "line",
          "x0": "Oct",
          "x1": "Oct",
          "xref": "x",
          "y0": 0,
          "y1": 1,
          "yref": "y domain"
         }
        ],
        "template": {
         "data": {
          "bar": [
           {
            "error_x": {
             "color": "#2a3f5f"
            },
            "error_y": {
             "color": "#2a3f5f"
            },
            "marker": {
             "line": {
              "color": "#E5ECF6",
              "width": 0.5
             },
             "pattern": {
              "fillmode": "overlay",
              "size": 10,
              "solidity": 0.2
             }
            },
            "type": "bar"
           }
          ],
          "barpolar": [
           {
            "marker": {
             "line": {
              "color": "#E5ECF6",
              "width": 0.5
             },
             "pattern": {
              "fillmode": "overlay",
              "size": 10,
              "solidity": 0.2
             }
            },
            "type": "barpolar"
           }
          ],
          "carpet": [
           {
            "aaxis": {
             "endlinecolor": "#2a3f5f",
             "gridcolor": "white",
             "linecolor": "white",
             "minorgridcolor": "white",
             "startlinecolor": "#2a3f5f"
            },
            "baxis": {
             "endlinecolor": "#2a3f5f",
             "gridcolor": "white",
             "linecolor": "white",
             "minorgridcolor": "white",
             "startlinecolor": "#2a3f5f"
            },
            "type": "carpet"
           }
          ],
          "choropleth": [
           {
            "colorbar": {
             "outlinewidth": 0,
             "ticks": ""
            },
            "type": "choropleth"
           }
          ],
          "contour": [
           {
            "colorbar": {
             "outlinewidth": 0,
             "ticks": ""
            },
            "colorscale": [
             [
              0,
              "#0d0887"
             ],
             [
              0.1111111111111111,
              "#46039f"
             ],
             [
              0.2222222222222222,
              "#7201a8"
             ],
             [
              0.3333333333333333,
              "#9c179e"
             ],
             [
              0.4444444444444444,
              "#bd3786"
             ],
             [
              0.5555555555555556,
              "#d8576b"
             ],
             [
              0.6666666666666666,
              "#ed7953"
             ],
             [
              0.7777777777777778,
              "#fb9f3a"
             ],
             [
              0.8888888888888888,
              "#fdca26"
             ],
             [
              1,
              "#f0f921"
             ]
            ],
            "type": "contour"
           }
          ],
          "contourcarpet": [
           {
            "colorbar": {
             "outlinewidth": 0,
             "ticks": ""
            },
            "type": "contourcarpet"
           }
          ],
          "heatmap": [
           {
            "colorbar": {
             "outlinewidth": 0,
             "ticks": ""
            },
            "colorscale": [
             [
              0,
              "#0d0887"
             ],
             [
              0.1111111111111111,
              "#46039f"
             ],
             [
              0.2222222222222222,
              "#7201a8"
             ],
             [
              0.3333333333333333,
              "#9c179e"
             ],
             [
              0.4444444444444444,
              "#bd3786"
             ],
             [
              0.5555555555555556,
              "#d8576b"
             ],
             [
              0.6666666666666666,
              "#ed7953"
             ],
             [
              0.7777777777777778,
              "#fb9f3a"
             ],
             [
              0.8888888888888888,
              "#fdca26"
             ],
             [
              1,
              "#f0f921"
             ]
            ],
            "type": "heatmap"
           }
          ],
          "heatmapgl": [
           {
            "colorbar": {
             "outlinewidth": 0,
             "ticks": ""
            },
            "colorscale": [
             [
              0,
              "#0d0887"
             ],
             [
              0.1111111111111111,
              "#46039f"
             ],
             [
              0.2222222222222222,
              "#7201a8"
             ],
             [
              0.3333333333333333,
              "#9c179e"
             ],
             [
              0.4444444444444444,
              "#bd3786"
             ],
             [
              0.5555555555555556,
              "#d8576b"
             ],
             [
              0.6666666666666666,
              "#ed7953"
             ],
             [
              0.7777777777777778,
              "#fb9f3a"
             ],
             [
              0.8888888888888888,
              "#fdca26"
             ],
             [
              1,
              "#f0f921"
             ]
            ],
            "type": "heatmapgl"
           }
          ],
          "histogram": [
           {
            "marker": {
             "pattern": {
              "fillmode": "overlay",
              "size": 10,
              "solidity": 0.2
             }
            },
            "type": "histogram"
           }
          ],
          "histogram2d": [
           {
            "colorbar": {
             "outlinewidth": 0,
             "ticks": ""
            },
            "colorscale": [
             [
              0,
              "#0d0887"
             ],
             [
              0.1111111111111111,
              "#46039f"
             ],
             [
              0.2222222222222222,
              "#7201a8"
             ],
             [
              0.3333333333333333,
              "#9c179e"
             ],
             [
              0.4444444444444444,
              "#bd3786"
             ],
             [
              0.5555555555555556,
              "#d8576b"
             ],
             [
              0.6666666666666666,
              "#ed7953"
             ],
             [
              0.7777777777777778,
              "#fb9f3a"
             ],
             [
              0.8888888888888888,
              "#fdca26"
             ],
             [
              1,
              "#f0f921"
             ]
            ],
            "type": "histogram2d"
           }
          ],
          "histogram2dcontour": [
           {
            "colorbar": {
             "outlinewidth": 0,
             "ticks": ""
            },
            "colorscale": [
             [
              0,
              "#0d0887"
             ],
             [
              0.1111111111111111,
              "#46039f"
             ],
             [
              0.2222222222222222,
              "#7201a8"
             ],
             [
              0.3333333333333333,
              "#9c179e"
             ],
             [
              0.4444444444444444,
              "#bd3786"
             ],
             [
              0.5555555555555556,
              "#d8576b"
             ],
             [
              0.6666666666666666,
              "#ed7953"
             ],
             [
              0.7777777777777778,
              "#fb9f3a"
             ],
             [
              0.8888888888888888,
              "#fdca26"
             ],
             [
              1,
              "#f0f921"
             ]
            ],
            "type": "histogram2dcontour"
           }
          ],
          "mesh3d": [
           {
            "colorbar": {
             "outlinewidth": 0,
             "ticks": ""
            },
            "type": "mesh3d"
           }
          ],
          "parcoords": [
           {
            "line": {
             "colorbar": {
              "outlinewidth": 0,
              "ticks": ""
             }
            },
            "type": "parcoords"
           }
          ],
          "pie": [
           {
            "automargin": true,
            "type": "pie"
           }
          ],
          "scatter": [
           {
            "fillpattern": {
             "fillmode": "overlay",
             "size": 10,
             "solidity": 0.2
            },
            "type": "scatter"
           }
          ],
          "scatter3d": [
           {
            "line": {
             "colorbar": {
              "outlinewidth": 0,
              "ticks": ""
             }
            },
            "marker": {
             "colorbar": {
              "outlinewidth": 0,
              "ticks": ""
             }
            },
            "type": "scatter3d"
           }
          ],
          "scattercarpet": [
           {
            "marker": {
             "colorbar": {
              "outlinewidth": 0,
              "ticks": ""
             }
            },
            "type": "scattercarpet"
           }
          ],
          "scattergeo": [
           {
            "marker": {
             "colorbar": {
              "outlinewidth": 0,
              "ticks": ""
             }
            },
            "type": "scattergeo"
           }
          ],
          "scattergl": [
           {
            "marker": {
             "colorbar": {
              "outlinewidth": 0,
              "ticks": ""
             }
            },
            "type": "scattergl"
           }
          ],
          "scattermapbox": [
           {
            "marker": {
             "colorbar": {
              "outlinewidth": 0,
              "ticks": ""
             }
            },
            "type": "scattermapbox"
           }
          ],
          "scatterpolar": [
           {
            "marker": {
             "colorbar": {
              "outlinewidth": 0,
              "ticks": ""
             }
            },
            "type": "scatterpolar"
           }
          ],
          "scatterpolargl": [
           {
            "marker": {
             "colorbar": {
              "outlinewidth": 0,
              "ticks": ""
             }
            },
            "type": "scatterpolargl"
           }
          ],
          "scatterternary": [
           {
            "marker": {
             "colorbar": {
              "outlinewidth": 0,
              "ticks": ""
             }
            },
            "type": "scatterternary"
           }
          ],
          "surface": [
           {
            "colorbar": {
             "outlinewidth": 0,
             "ticks": ""
            },
            "colorscale": [
             [
              0,
              "#0d0887"
             ],
             [
              0.1111111111111111,
              "#46039f"
             ],
             [
              0.2222222222222222,
              "#7201a8"
             ],
             [
              0.3333333333333333,
              "#9c179e"
             ],
             [
              0.4444444444444444,
              "#bd3786"
             ],
             [
              0.5555555555555556,
              "#d8576b"
             ],
             [
              0.6666666666666666,
              "#ed7953"
             ],
             [
              0.7777777777777778,
              "#fb9f3a"
             ],
             [
              0.8888888888888888,
              "#fdca26"
             ],
             [
              1,
              "#f0f921"
             ]
            ],
            "type": "surface"
           }
          ],
          "table": [
           {
            "cells": {
             "fill": {
              "color": "#EBF0F8"
             },
             "line": {
              "color": "white"
             }
            },
            "header": {
             "fill": {
              "color": "#C8D4E3"
             },
             "line": {
              "color": "white"
             }
            },
            "type": "table"
           }
          ]
         },
         "layout": {
          "annotationdefaults": {
           "arrowcolor": "#2a3f5f",
           "arrowhead": 0,
           "arrowwidth": 1
          },
          "autotypenumbers": "strict",
          "coloraxis": {
           "colorbar": {
            "outlinewidth": 0,
            "ticks": ""
           }
          },
          "colorscale": {
           "diverging": [
            [
             0,
             "#8e0152"
            ],
            [
             0.1,
             "#c51b7d"
            ],
            [
             0.2,
             "#de77ae"
            ],
            [
             0.3,
             "#f1b6da"
            ],
            [
             0.4,
             "#fde0ef"
            ],
            [
             0.5,
             "#f7f7f7"
            ],
            [
             0.6,
             "#e6f5d0"
            ],
            [
             0.7,
             "#b8e186"
            ],
            [
             0.8,
             "#7fbc41"
            ],
            [
             0.9,
             "#4d9221"
            ],
            [
             1,
             "#276419"
            ]
           ],
           "sequential": [
            [
             0,
             "#0d0887"
            ],
            [
             0.1111111111111111,
             "#46039f"
            ],
            [
             0.2222222222222222,
             "#7201a8"
            ],
            [
             0.3333333333333333,
             "#9c179e"
            ],
            [
             0.4444444444444444,
             "#bd3786"
            ],
            [
             0.5555555555555556,
             "#d8576b"
            ],
            [
             0.6666666666666666,
             "#ed7953"
            ],
            [
             0.7777777777777778,
             "#fb9f3a"
            ],
            [
             0.8888888888888888,
             "#fdca26"
            ],
            [
             1,
             "#f0f921"
            ]
           ],
           "sequentialminus": [
            [
             0,
             "#0d0887"
            ],
            [
             0.1111111111111111,
             "#46039f"
            ],
            [
             0.2222222222222222,
             "#7201a8"
            ],
            [
             0.3333333333333333,
             "#9c179e"
            ],
            [
             0.4444444444444444,
             "#bd3786"
            ],
            [
             0.5555555555555556,
             "#d8576b"
            ],
            [
             0.6666666666666666,
             "#ed7953"
            ],
            [
             0.7777777777777778,
             "#fb9f3a"
            ],
            [
             0.8888888888888888,
             "#fdca26"
            ],
            [
             1,
             "#f0f921"
            ]
           ]
          },
          "colorway": [
           "#636efa",
           "#EF553B",
           "#00cc96",
           "#ab63fa",
           "#FFA15A",
           "#19d3f3",
           "#FF6692",
           "#B6E880",
           "#FF97FF",
           "#FECB52"
          ],
          "font": {
           "color": "#2a3f5f"
          },
          "geo": {
           "bgcolor": "white",
           "lakecolor": "white",
           "landcolor": "#E5ECF6",
           "showlakes": true,
           "showland": true,
           "subunitcolor": "white"
          },
          "hoverlabel": {
           "align": "left"
          },
          "hovermode": "closest",
          "mapbox": {
           "style": "light"
          },
          "paper_bgcolor": "white",
          "plot_bgcolor": "#E5ECF6",
          "polar": {
           "angularaxis": {
            "gridcolor": "white",
            "linecolor": "white",
            "ticks": ""
           },
           "bgcolor": "#E5ECF6",
           "radialaxis": {
            "gridcolor": "white",
            "linecolor": "white",
            "ticks": ""
           }
          },
          "scene": {
           "xaxis": {
            "backgroundcolor": "#E5ECF6",
            "gridcolor": "white",
            "gridwidth": 2,
            "linecolor": "white",
            "showbackground": true,
            "ticks": "",
            "zerolinecolor": "white"
           },
           "yaxis": {
            "backgroundcolor": "#E5ECF6",
            "gridcolor": "white",
            "gridwidth": 2,
            "linecolor": "white",
            "showbackground": true,
            "ticks": "",
            "zerolinecolor": "white"
           },
           "zaxis": {
            "backgroundcolor": "#E5ECF6",
            "gridcolor": "white",
            "gridwidth": 2,
            "linecolor": "white",
            "showbackground": true,
            "ticks": "",
            "zerolinecolor": "white"
           }
          },
          "shapedefaults": {
           "line": {
            "color": "#2a3f5f"
           }
          },
          "ternary": {
           "aaxis": {
            "gridcolor": "white",
            "linecolor": "white",
            "ticks": ""
           },
           "baxis": {
            "gridcolor": "white",
            "linecolor": "white",
            "ticks": ""
           },
           "bgcolor": "#E5ECF6",
           "caxis": {
            "gridcolor": "white",
            "linecolor": "white",
            "ticks": ""
           }
          },
          "title": {
           "x": 0.05
          },
          "xaxis": {
           "automargin": true,
           "gridcolor": "white",
           "linecolor": "white",
           "ticks": "",
           "title": {
            "standoff": 15
           },
           "zerolinecolor": "white",
           "zerolinewidth": 2
          },
          "yaxis": {
           "automargin": true,
           "gridcolor": "white",
           "linecolor": "white",
           "ticks": "",
           "title": {
            "standoff": 15
           },
           "zerolinecolor": "white",
           "zerolinewidth": 2
          }
         }
        },
        "xaxis": {
         "anchor": "y",
         "domain": [
          0,
          0.94
         ]
        },
        "yaxis": {
         "anchor": "x",
         "domain": [
          0,
          1
         ],
         "range": [
          0,
          45
         ]
        },
        "yaxis2": {
         "anchor": "x",
         "overlaying": "y",
         "side": "right"
        }
       }
      },
      "text/html": [
       "<div>                            <div id=\"d7f7201b-0e9a-4608-9fe6-d633a6aaca32\" class=\"plotly-graph-div\" style=\"height:525px; width:100%;\"></div>            <script type=\"text/javascript\">                require([\"plotly\"], function(Plotly) {                    window.PLOTLYENV=window.PLOTLYENV || {};                                    if (document.getElementById(\"d7f7201b-0e9a-4608-9fe6-d633a6aaca32\")) {                    Plotly.newPlot(                        \"d7f7201b-0e9a-4608-9fe6-d633a6aaca32\",                        [{\"x\":[],\"y\":[],\"type\":\"scatter\"},{\"x\":[],\"y\":[],\"type\":\"scatter\"}],                        {\"template\":{\"data\":{\"histogram2dcontour\":[{\"type\":\"histogram2dcontour\",\"colorbar\":{\"outlinewidth\":0,\"ticks\":\"\"},\"colorscale\":[[0.0,\"#0d0887\"],[0.1111111111111111,\"#46039f\"],[0.2222222222222222,\"#7201a8\"],[0.3333333333333333,\"#9c179e\"],[0.4444444444444444,\"#bd3786\"],[0.5555555555555556,\"#d8576b\"],[0.6666666666666666,\"#ed7953\"],[0.7777777777777778,\"#fb9f3a\"],[0.8888888888888888,\"#fdca26\"],[1.0,\"#f0f921\"]]}],\"choropleth\":[{\"type\":\"choropleth\",\"colorbar\":{\"outlinewidth\":0,\"ticks\":\"\"}}],\"histogram2d\":[{\"type\":\"histogram2d\",\"colorbar\":{\"outlinewidth\":0,\"ticks\":\"\"},\"colorscale\":[[0.0,\"#0d0887\"],[0.1111111111111111,\"#46039f\"],[0.2222222222222222,\"#7201a8\"],[0.3333333333333333,\"#9c179e\"],[0.4444444444444444,\"#bd3786\"],[0.5555555555555556,\"#d8576b\"],[0.6666666666666666,\"#ed7953\"],[0.7777777777777778,\"#fb9f3a\"],[0.8888888888888888,\"#fdca26\"],[1.0,\"#f0f921\"]]}],\"heatmap\":[{\"type\":\"heatmap\",\"colorbar\":{\"outlinewidth\":0,\"ticks\":\"\"},\"colorscale\":[[0.0,\"#0d0887\"],[0.1111111111111111,\"#46039f\"],[0.2222222222222222,\"#7201a8\"],[0.3333333333333333,\"#9c179e\"],[0.4444444444444444,\"#bd3786\"],[0.5555555555555556,\"#d8576b\"],[0.6666666666666666,\"#ed7953\"],[0.7777777777777778,\"#fb9f3a\"],[0.8888888888888888,\"#fdca26\"],[1.0,\"#f0f921\"]]}],\"heatmapgl\":[{\"type\":\"heatmapgl\",\"colorbar\":{\"outlinewidth\":0,\"ticks\":\"\"},\"colorscale\":[[0.0,\"#0d0887\"],[0.1111111111111111,\"#46039f\"],[0.2222222222222222,\"#7201a8\"],[0.3333333333333333,\"#9c179e\"],[0.4444444444444444,\"#bd3786\"],[0.5555555555555556,\"#d8576b\"],[0.6666666666666666,\"#ed7953\"],[0.7777777777777778,\"#fb9f3a\"],[0.8888888888888888,\"#fdca26\"],[1.0,\"#f0f921\"]]}],\"contourcarpet\":[{\"type\":\"contourcarpet\",\"colorbar\":{\"outlinewidth\":0,\"ticks\":\"\"}}],\"contour\":[{\"type\":\"contour\",\"colorbar\":{\"outlinewidth\":0,\"ticks\":\"\"},\"colorscale\":[[0.0,\"#0d0887\"],[0.1111111111111111,\"#46039f\"],[0.2222222222222222,\"#7201a8\"],[0.3333333333333333,\"#9c179e\"],[0.4444444444444444,\"#bd3786\"],[0.5555555555555556,\"#d8576b\"],[0.6666666666666666,\"#ed7953\"],[0.7777777777777778,\"#fb9f3a\"],[0.8888888888888888,\"#fdca26\"],[1.0,\"#f0f921\"]]}],\"surface\":[{\"type\":\"surface\",\"colorbar\":{\"outlinewidth\":0,\"ticks\":\"\"},\"colorscale\":[[0.0,\"#0d0887\"],[0.1111111111111111,\"#46039f\"],[0.2222222222222222,\"#7201a8\"],[0.3333333333333333,\"#9c179e\"],[0.4444444444444444,\"#bd3786\"],[0.5555555555555556,\"#d8576b\"],[0.6666666666666666,\"#ed7953\"],[0.7777777777777778,\"#fb9f3a\"],[0.8888888888888888,\"#fdca26\"],[1.0,\"#f0f921\"]]}],\"mesh3d\":[{\"type\":\"mesh3d\",\"colorbar\":{\"outlinewidth\":0,\"ticks\":\"\"}}],\"scatter\":[{\"fillpattern\":{\"fillmode\":\"overlay\",\"size\":10,\"solidity\":0.2},\"type\":\"scatter\"}],\"parcoords\":[{\"type\":\"parcoords\",\"line\":{\"colorbar\":{\"outlinewidth\":0,\"ticks\":\"\"}}}],\"scatterpolargl\":[{\"type\":\"scatterpolargl\",\"marker\":{\"colorbar\":{\"outlinewidth\":0,\"ticks\":\"\"}}}],\"bar\":[{\"error_x\":{\"color\":\"#2a3f5f\"},\"error_y\":{\"color\":\"#2a3f5f\"},\"marker\":{\"line\":{\"color\":\"#E5ECF6\",\"width\":0.5},\"pattern\":{\"fillmode\":\"overlay\",\"size\":10,\"solidity\":0.2}},\"type\":\"bar\"}],\"scattergeo\":[{\"type\":\"scattergeo\",\"marker\":{\"colorbar\":{\"outlinewidth\":0,\"ticks\":\"\"}}}],\"scatterpolar\":[{\"type\":\"scatterpolar\",\"marker\":{\"colorbar\":{\"outlinewidth\":0,\"ticks\":\"\"}}}],\"histogram\":[{\"marker\":{\"pattern\":{\"fillmode\":\"overlay\",\"size\":10,\"solidity\":0.2}},\"type\":\"histogram\"}],\"scattergl\":[{\"type\":\"scattergl\",\"marker\":{\"colorbar\":{\"outlinewidth\":0,\"ticks\":\"\"}}}],\"scatter3d\":[{\"type\":\"scatter3d\",\"line\":{\"colorbar\":{\"outlinewidth\":0,\"ticks\":\"\"}},\"marker\":{\"colorbar\":{\"outlinewidth\":0,\"ticks\":\"\"}}}],\"scattermapbox\":[{\"type\":\"scattermapbox\",\"marker\":{\"colorbar\":{\"outlinewidth\":0,\"ticks\":\"\"}}}],\"scatterternary\":[{\"type\":\"scatterternary\",\"marker\":{\"colorbar\":{\"outlinewidth\":0,\"ticks\":\"\"}}}],\"scattercarpet\":[{\"type\":\"scattercarpet\",\"marker\":{\"colorbar\":{\"outlinewidth\":0,\"ticks\":\"\"}}}],\"carpet\":[{\"aaxis\":{\"endlinecolor\":\"#2a3f5f\",\"gridcolor\":\"white\",\"linecolor\":\"white\",\"minorgridcolor\":\"white\",\"startlinecolor\":\"#2a3f5f\"},\"baxis\":{\"endlinecolor\":\"#2a3f5f\",\"gridcolor\":\"white\",\"linecolor\":\"white\",\"minorgridcolor\":\"white\",\"startlinecolor\":\"#2a3f5f\"},\"type\":\"carpet\"}],\"table\":[{\"cells\":{\"fill\":{\"color\":\"#EBF0F8\"},\"line\":{\"color\":\"white\"}},\"header\":{\"fill\":{\"color\":\"#C8D4E3\"},\"line\":{\"color\":\"white\"}},\"type\":\"table\"}],\"barpolar\":[{\"marker\":{\"line\":{\"color\":\"#E5ECF6\",\"width\":0.5},\"pattern\":{\"fillmode\":\"overlay\",\"size\":10,\"solidity\":0.2}},\"type\":\"barpolar\"}],\"pie\":[{\"automargin\":true,\"type\":\"pie\"}]},\"layout\":{\"autotypenumbers\":\"strict\",\"colorway\":[\"#636efa\",\"#EF553B\",\"#00cc96\",\"#ab63fa\",\"#FFA15A\",\"#19d3f3\",\"#FF6692\",\"#B6E880\",\"#FF97FF\",\"#FECB52\"],\"font\":{\"color\":\"#2a3f5f\"},\"hovermode\":\"closest\",\"hoverlabel\":{\"align\":\"left\"},\"paper_bgcolor\":\"white\",\"plot_bgcolor\":\"#E5ECF6\",\"polar\":{\"bgcolor\":\"#E5ECF6\",\"angularaxis\":{\"gridcolor\":\"white\",\"linecolor\":\"white\",\"ticks\":\"\"},\"radialaxis\":{\"gridcolor\":\"white\",\"linecolor\":\"white\",\"ticks\":\"\"}},\"ternary\":{\"bgcolor\":\"#E5ECF6\",\"aaxis\":{\"gridcolor\":\"white\",\"linecolor\":\"white\",\"ticks\":\"\"},\"baxis\":{\"gridcolor\":\"white\",\"linecolor\":\"white\",\"ticks\":\"\"},\"caxis\":{\"gridcolor\":\"white\",\"linecolor\":\"white\",\"ticks\":\"\"}},\"coloraxis\":{\"colorbar\":{\"outlinewidth\":0,\"ticks\":\"\"}},\"colorscale\":{\"sequential\":[[0.0,\"#0d0887\"],[0.1111111111111111,\"#46039f\"],[0.2222222222222222,\"#7201a8\"],[0.3333333333333333,\"#9c179e\"],[0.4444444444444444,\"#bd3786\"],[0.5555555555555556,\"#d8576b\"],[0.6666666666666666,\"#ed7953\"],[0.7777777777777778,\"#fb9f3a\"],[0.8888888888888888,\"#fdca26\"],[1.0,\"#f0f921\"]],\"sequentialminus\":[[0.0,\"#0d0887\"],[0.1111111111111111,\"#46039f\"],[0.2222222222222222,\"#7201a8\"],[0.3333333333333333,\"#9c179e\"],[0.4444444444444444,\"#bd3786\"],[0.5555555555555556,\"#d8576b\"],[0.6666666666666666,\"#ed7953\"],[0.7777777777777778,\"#fb9f3a\"],[0.8888888888888888,\"#fdca26\"],[1.0,\"#f0f921\"]],\"diverging\":[[0,\"#8e0152\"],[0.1,\"#c51b7d\"],[0.2,\"#de77ae\"],[0.3,\"#f1b6da\"],[0.4,\"#fde0ef\"],[0.5,\"#f7f7f7\"],[0.6,\"#e6f5d0\"],[0.7,\"#b8e186\"],[0.8,\"#7fbc41\"],[0.9,\"#4d9221\"],[1,\"#276419\"]]},\"xaxis\":{\"gridcolor\":\"white\",\"linecolor\":\"white\",\"ticks\":\"\",\"title\":{\"standoff\":15},\"zerolinecolor\":\"white\",\"automargin\":true,\"zerolinewidth\":2},\"yaxis\":{\"gridcolor\":\"white\",\"linecolor\":\"white\",\"ticks\":\"\",\"title\":{\"standoff\":15},\"zerolinecolor\":\"white\",\"automargin\":true,\"zerolinewidth\":2},\"scene\":{\"xaxis\":{\"backgroundcolor\":\"#E5ECF6\",\"gridcolor\":\"white\",\"linecolor\":\"white\",\"showbackground\":true,\"ticks\":\"\",\"zerolinecolor\":\"white\",\"gridwidth\":2},\"yaxis\":{\"backgroundcolor\":\"#E5ECF6\",\"gridcolor\":\"white\",\"linecolor\":\"white\",\"showbackground\":true,\"ticks\":\"\",\"zerolinecolor\":\"white\",\"gridwidth\":2},\"zaxis\":{\"backgroundcolor\":\"#E5ECF6\",\"gridcolor\":\"white\",\"linecolor\":\"white\",\"showbackground\":true,\"ticks\":\"\",\"zerolinecolor\":\"white\",\"gridwidth\":2}},\"shapedefaults\":{\"line\":{\"color\":\"#2a3f5f\"}},\"annotationdefaults\":{\"arrowcolor\":\"#2a3f5f\",\"arrowhead\":0,\"arrowwidth\":1},\"geo\":{\"bgcolor\":\"white\",\"landcolor\":\"#E5ECF6\",\"subunitcolor\":\"white\",\"showland\":true,\"showlakes\":true,\"lakecolor\":\"white\"},\"title\":{\"x\":0.05},\"mapbox\":{\"style\":\"light\"}}},\"xaxis\":{\"anchor\":\"y\",\"domain\":[0.0,0.94]},\"yaxis\":{\"anchor\":\"x\",\"domain\":[0.0,1.0],\"range\":[0,45]},\"yaxis2\":{\"anchor\":\"x\",\"overlaying\":\"y\",\"side\":\"right\"},\"shapes\":[{\"fillcolor\":\"#ffffe0\",\"line\":{\"width\":0},\"opacity\":0.5,\"type\":\"rect\",\"x0\":\"Mar\",\"x1\":\"Oct\",\"xref\":\"x\",\"y0\":0,\"y1\":1,\"yref\":\"paper\"},{\"line\":{\"dash\":\"dash\"},\"type\":\"line\",\"x0\":\"Mar\",\"x1\":\"Mar\",\"xref\":\"x\",\"y0\":0,\"y1\":1,\"yref\":\"y domain\"},{\"line\":{\"dash\":\"dash\"},\"type\":\"line\",\"x0\":\"Oct\",\"x1\":\"Oct\",\"xref\":\"x\",\"y0\":0,\"y1\":1,\"yref\":\"y domain\"}],\"plot_bgcolor\":\"#FFFFFF\",\"annotations\":[{\"showarrow\":false,\"text\":\"Growth Cycle Start\",\"x\":\"Mar\",\"y\":45},{\"showarrow\":false,\"text\":\"Harvest\",\"x\":\"Oct\",\"y\":45}]},                        {\"responsive\": true}                    ).then(function(){\n",
       "                            \n",
       "var gd = document.getElementById('d7f7201b-0e9a-4608-9fe6-d633a6aaca32');\n",
       "var x = new MutationObserver(function (mutations, observer) {{\n",
       "        var display = window.getComputedStyle(gd).display;\n",
       "        if (!display || display === 'none') {{\n",
       "            console.log([gd, 'removed!']);\n",
       "            Plotly.purge(gd);\n",
       "            observer.disconnect();\n",
       "        }}\n",
       "}});\n",
       "\n",
       "// Listen for the removal of the full notebook cells\n",
       "var notebookContainer = gd.closest('#notebook-container');\n",
       "if (notebookContainer) {{\n",
       "    x.observe(notebookContainer, {childList: true});\n",
       "}}\n",
       "\n",
       "// Listen for the clearing of the current output cell\n",
       "var outputEl = gd.closest('.output');\n",
       "if (outputEl) {{\n",
       "    x.observe(outputEl, {childList: true});\n",
       "}}\n",
       "\n",
       "                        })                };                });            </script>        </div>"
      ]
     },
     "metadata": {},
     "output_type": "display_data"
    }
   ],
   "source": [
    "import plotly.graph_objects as go\n",
    "from plotly.subplots import make_subplots\n",
    "\n",
    "plot_data = data_month_year[(data_month_year['year'] == 2006) & (data_month_year['location'] == 'Alsace, France')]\n",
    "\n",
    "fig = make_subplots(specs=[[{\"secondary_y\": True}]])\n",
    "\n",
    "#fig.add_trace(go.Bar(x = plot_data['month'], y = plot_data['tflux_month'], name = \"2005\"))\n",
    "fig.update_layout(\n",
    "    shapes = [\n",
    "    {\n",
    "            'type': 'rect',\n",
    "            'xref': 'x',\n",
    "            'yref': 'paper',\n",
    "            'x0': 'Mar',\n",
    "            'y0': 0,\n",
    "            'x1': 'Oct',\n",
    "            'y1': 1,\n",
    "            'fillcolor': '#ffffe0',\n",
    "            'opacity': 0.5,\n",
    "            'line': {\n",
    "                'width': 0,\n",
    "            }\n",
    "    \n",
    "    }\n",
    "    ]\n",
    ")\n",
    "fig.add_trace(go.Scatter(x = plot_data['month'], y = plot_data['tmax']))\n",
    "fig.add_trace(go.Scatter(x = plot_data['month'], y = plot_data['tmin']))\n",
    "fig.update_layout(\n",
    "    plot_bgcolor='#FFFFFF',\n",
    "        yaxis=dict(range=[0, 45])\n",
    ")\n",
    "fig.add_vline(\n",
    "    x = 'Mar',\n",
    "    line_dash = 'dash',\n",
    ")\n",
    "fig.add_annotation(\n",
    "    x=\"Mar\",\n",
    "    y = 45,\n",
    "    text=\"Growth Cycle Start\",\n",
    "    showarrow = False\n",
    ")\n",
    "fig.add_vline(\n",
    "    x = 'Oct',\n",
    "    line_dash = 'dash',\n",
    ")\n",
    "fig.add_annotation(\n",
    "    x = 'Oct',\n",
    "    y = 45,\n",
    "    text = 'Harvest',\n",
    "    showarrow=False\n",
    ")"
   ]
  },
  {
   "cell_type": "code",
   "execution_count": 42,
   "metadata": {},
   "outputs": [
    {
     "data": {
      "text/html": [
       "<div>\n",
       "<style scoped>\n",
       "    .dataframe tbody tr th:only-of-type {\n",
       "        vertical-align: middle;\n",
       "    }\n",
       "\n",
       "    .dataframe tbody tr th {\n",
       "        vertical-align: top;\n",
       "    }\n",
       "\n",
       "    .dataframe thead th {\n",
       "        text-align: right;\n",
       "    }\n",
       "</style>\n",
       "<table border=\"1\" class=\"dataframe\">\n",
       "  <thead>\n",
       "    <tr style=\"text-align: right;\">\n",
       "      <th></th>\n",
       "      <th>Place</th>\n",
       "    </tr>\n",
       "  </thead>\n",
       "  <tbody>\n",
       "    <tr>\n",
       "      <th>0</th>\n",
       "      <td>Alsace, France</td>\n",
       "    </tr>\n",
       "    <tr>\n",
       "      <th>1</th>\n",
       "      <td>Beaujolais, France</td>\n",
       "    </tr>\n",
       "    <tr>\n",
       "      <th>2</th>\n",
       "      <td>Bordeaux, France</td>\n",
       "    </tr>\n",
       "    <tr>\n",
       "      <th>3</th>\n",
       "      <td>Bugey Savoie, France</td>\n",
       "    </tr>\n",
       "    <tr>\n",
       "      <th>4</th>\n",
       "      <td>Burgundy, France</td>\n",
       "    </tr>\n",
       "    <tr>\n",
       "      <th>5</th>\n",
       "      <td>Chablis Chatillonais, France</td>\n",
       "    </tr>\n",
       "    <tr>\n",
       "      <th>6</th>\n",
       "      <td>Champagne, France</td>\n",
       "    </tr>\n",
       "    <tr>\n",
       "      <th>7</th>\n",
       "      <td>Corsica, France</td>\n",
       "    </tr>\n",
       "    <tr>\n",
       "      <th>8</th>\n",
       "      <td>Languedoc, France</td>\n",
       "    </tr>\n",
       "    <tr>\n",
       "      <th>9</th>\n",
       "      <td>Loire Valley, France</td>\n",
       "    </tr>\n",
       "    <tr>\n",
       "      <th>10</th>\n",
       "      <td>Provence, France</td>\n",
       "    </tr>\n",
       "    <tr>\n",
       "      <th>11</th>\n",
       "      <td>Rhône Valley, France</td>\n",
       "    </tr>\n",
       "  </tbody>\n",
       "</table>\n",
       "</div>"
      ],
      "text/plain": [
       "                           Place\n",
       "0                 Alsace, France\n",
       "1             Beaujolais, France\n",
       "2               Bordeaux, France\n",
       "3           Bugey Savoie, France\n",
       "4               Burgundy, France\n",
       "5   Chablis Chatillonais, France\n",
       "6              Champagne, France\n",
       "7                Corsica, France\n",
       "8              Languedoc, France\n",
       "9           Loire Valley, France\n",
       "10              Provence, France\n",
       "11          Rhône Valley, France"
      ]
     },
     "execution_count": 42,
     "metadata": {},
     "output_type": "execute_result"
    }
   ],
   "source": [
    "import pandas as pd \n",
    "pd.read_csv('data/france-wine-regions.csv')"
   ]
  },
  {
   "cell_type": "code",
   "execution_count": 50,
   "metadata": {},
   "outputs": [
    {
     "data": {
      "text/plain": [
       "['Alsace, France',\n",
       " 'Beaujolais, France',\n",
       " 'Bordeaux, France',\n",
       " 'Bugey Savoie, France',\n",
       " 'Burgundy, France',\n",
       " 'Chablis Chatillonais, France',\n",
       " 'Champagne, France',\n",
       " 'Corsica, France',\n",
       " 'Languedoc, France',\n",
       " 'Loire Valley, France',\n",
       " 'Provence, France',\n",
       " 'Rhône Valley, France']"
      ]
     },
     "execution_count": 50,
     "metadata": {},
     "output_type": "execute_result"
    }
   ],
   "source": [
    "import csv\n",
    "\n",
    "# Open the CSV file and read it into a list\n",
    "# Open the CSV file and read it into a list\n",
    "with open('data/france-wine-regions.csv', newline='') as csvfile:\n",
    "    reader = csv.reader(csvfile, delimiter=',')\n",
    "    data = [row[0] for row in reader]\n",
    "    data = data[1:] # drop the header\n",
    "\n",
    "data"
   ]
  }
 ],
 "metadata": {
  "kernelspec": {
   "display_name": "Python 3",
   "language": "python",
   "name": "python3"
  },
  "language_info": {
   "codemirror_mode": {
    "name": "ipython",
    "version": 3
   },
   "file_extension": ".py",
   "mimetype": "text/x-python",
   "name": "python",
   "nbconvert_exporter": "python",
   "pygments_lexer": "ipython3",
   "version": "3.10.4"
  },
  "orig_nbformat": 4
 },
 "nbformat": 4,
 "nbformat_minor": 2
}
