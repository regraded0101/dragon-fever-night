{
 "cells": [
  {
   "cell_type": "code",
   "execution_count": null,
   "metadata": {},
   "outputs": [],
   "source": [
    "#!pip install geopy\n",
    "#!pip install pandas\n",
    "\n",
    "from geopy.geocoders import Nominatim\n",
    "import pandas as pd\n",
    "from datetime import datetime\n",
    "geolocator = Nominatim(user_agent=\"my_user_agent\")\n",
    "\n",
    "loc = geolocator.geocode(\"Alsace, France\")\n",
    "print(loc)"
   ]
  },
  {
   "cell_type": "code",
   "execution_count": null,
   "metadata": {},
   "outputs": [],
   "source": [
    "#!pip install meteostat\n",
    "# Import Meteostat library\n",
    "from meteostat import Stations, Daily\n",
    "\n",
    "# Get nearby weather stations\n",
    "stations = Stations()\n",
    "stations = stations.nearby(loc.latitude, loc.longitude)\n",
    "station = stations.fetch(10)\n",
    "station = station[station['distance'] <= 5e5]"
   ]
  },
  {
   "cell_type": "code",
   "execution_count": null,
   "metadata": {},
   "outputs": [],
   "source": [
    "station"
   ]
  },
  {
   "cell_type": "code",
   "execution_count": null,
   "metadata": {},
   "outputs": [],
   "source": [
    "from datetime import datetime, timedelta\n",
    "import numpy as np\n",
    "\n",
    "# Set time period\n",
    "start = datetime(2000, 1, 1)\n",
    "end = datetime(2022, 12, 31)\n",
    "\n",
    "# Get Daily data\n",
    "data = Daily(station.index.values[0], start, end)\n",
    "data = data.fetch()\n",
    "data = data.reset_index()\n",
    "data = data[['time','tavg', 'tmin', 'tmax']]\n"
   ]
  },
  {
   "cell_type": "code",
   "execution_count": null,
   "metadata": {},
   "outputs": [],
   "source": [
    "#data['time']\n",
    "\n",
    "start = datetime(2000, 1, 1)\n",
    "end = datetime(2022, 12, 31)\n",
    "\n",
    "dates = pd.date_range(start='2000-01-01', end='2022-12-31')\n",
    "\n",
    "\n",
    "i = 0\n",
    "data = pd.DataFrame(columns=['time','tavg', 'tmin', 'tmax'], dtype='datetime64[ns]')\n",
    "while (data['time'].empty) | (data['time'].min() > start) :\n",
    "    if i <= len(station.index) - 1:\n",
    "        next_data = Daily(station.index.values[i], start, end)\n",
    "        next_data = next_data.fetch()\n",
    "        next_data = next_data.reset_index()\n",
    "        next_data = next_data[['time','tavg', 'tmin', 'tmax']]\n",
    "        data = pd.concat([next_data, data])\n",
    "        end = data['time'][0] - pd.Timedelta(days=1)\n",
    "        i = i + 1\n",
    "    else:\n",
    "        break\n",
    "if not dates.isin(data['time']).all():\n",
    "    print(f'Some dates not recorded: {round(100*len(dates[~dates.isin(data[\"time\"])])/len(dates),2)}%')"
   ]
  },
  {
   "cell_type": "code",
   "execution_count": null,
   "metadata": {},
   "outputs": [],
   "source": [
    "next_data"
   ]
  },
  {
   "cell_type": "code",
   "execution_count": null,
   "metadata": {},
   "outputs": [],
   "source": [
    "data['year'] = data['time'].dt.year\n",
    "data['month'] = data['time'].dt.month"
   ]
  },
  {
   "cell_type": "code",
   "execution_count": null,
   "metadata": {},
   "outputs": [],
   "source": [
    "data_month_year = data.groupby(['year', 'month'])[['tavg', 'tmin', 'tmax']].mean().reset_index()"
   ]
  },
  {
   "cell_type": "code",
   "execution_count": null,
   "metadata": {},
   "outputs": [],
   "source": [
    "data_month = data_month_year.groupby('month')[['tavg', 'tmin', 'tmax']].mean().reset_index()\n",
    "data_month.columns = ['month', 'tavg_month', 'tmin_month', 'tmax_month']\n",
    "data_month_year = data_month_year.merge(data_month, how = 'left', on = 'month')"
   ]
  },
  {
   "cell_type": "code",
   "execution_count": null,
   "metadata": {},
   "outputs": [],
   "source": [
    "data_month_year['tflux_month'] = data_month_year['tavg'] - data_month_year['tavg_month']"
   ]
  },
  {
   "cell_type": "code",
   "execution_count": null,
   "metadata": {},
   "outputs": [],
   "source": [
    "data_month_year = pd.read_csv('data/france_regions_weather_data.csv')"
   ]
  },
  {
   "cell_type": "code",
   "execution_count": null,
   "metadata": {},
   "outputs": [],
   "source": [
    "convert_months = {\n",
    "    1:\"Jan\",\n",
    "    2:\"Feb\",\n",
    "    3:\"Mar\",\n",
    "    4:\"Apr\",\n",
    "    5:\"May\",\n",
    "    6:\"Jun\", \n",
    "    7:\"July\",\n",
    "    8:\"Aug\",\n",
    "    9:\"Sep\",\n",
    "    10:\"Oct\",\n",
    "    11:\"Nov\",\n",
    "    12:\"Dec\"\n",
    "}\n",
    "data_month_year['month'] = data_month_year['month'].replace(convert_months)"
   ]
  },
  {
   "cell_type": "code",
   "execution_count": null,
   "metadata": {},
   "outputs": [],
   "source": [
    "data_month_year[(data_month_year['location'] == 'Alsace, France')]"
   ]
  },
  {
   "cell_type": "code",
   "execution_count": null,
   "metadata": {},
   "outputs": [],
   "source": [
    "data_month_year"
   ]
  },
  {
   "cell_type": "code",
   "execution_count": null,
   "metadata": {},
   "outputs": [],
   "source": [
    "#!pip install plotly\n",
    "#!pip install nbformat\n",
    "import plotly.graph_objects as go\n",
    "from plotly.subplots import make_subplots\n",
    "\n",
    "plot_data = data_month_year[(data_month_year['year'] == 2022) & (data_month_year['location'] == 'Alsace, France')]\n",
    "\n",
    "fig = make_subplots(specs=[[{\"secondary_y\": True}]])\n",
    "\n",
    "#fig.add_trace(go.Bar(x = plot_data['month'], y = plot_data['tflux_month'], name = \"2005\"))\n",
    "fig.update_layout(\n",
    "    shapes = [\n",
    "    {\n",
    "            'type': 'rect',\n",
    "            'xref': 'x',\n",
    "            'yref': 'paper',\n",
    "            'x0': 'Mar',\n",
    "            'y0': 0,\n",
    "            'x1': 'Oct',\n",
    "            'y1': 1,\n",
    "            'fillcolor': '#ffffe0',\n",
    "            'opacity': 0.5,\n",
    "            'line': {\n",
    "                'width': 0,\n",
    "            }\n",
    "    \n",
    "    }\n",
    "    ]\n",
    ")\n",
    "fig.add_trace(go.Scatter(x = plot_data['month'], y = plot_data['tmax']))\n",
    "fig.add_trace(go.Scatter(x = plot_data['month'], y = plot_data['tmin']))\n",
    "fig.update_layout(\n",
    "    plot_bgcolor='#FFFFFF',\n",
    "        yaxis=dict(range=[-10, 45])\n",
    ")\n",
    "fig.add_vline(\n",
    "    x = 'Mar',\n",
    "    line_dash = 'dash',\n",
    ")\n",
    "fig.add_annotation(\n",
    "    x=\"Mar\",\n",
    "    y = 45,\n",
    "    text=\"Growth Cycle Start\",\n",
    "    showarrow = False\n",
    ")\n",
    "fig.add_vline(\n",
    "    x = 'Oct',\n",
    "    line_dash = 'dash',\n",
    ")\n",
    "fig.add_annotation(\n",
    "    x = 'Oct',\n",
    "    y = 45,\n",
    "    text = 'Harvest',\n",
    "    showarrow=False\n",
    ")"
   ]
  },
  {
   "cell_type": "code",
   "execution_count": null,
   "metadata": {},
   "outputs": [],
   "source": [
    "class FetchDataFoo():\n",
    "\n",
    "    def __init__(self, place, start_date, end_date):\n",
    "        self.place = place\n",
    "        self.start_date = start_date\n",
    "        self.end_date = end_date\n",
    "\n",
    "\n",
    "\n",
    "    def get_lat_long(self):\n",
    "        geolocator = Nominatim(user_agent=\"my_user_agent\")\n",
    "        loc = geolocator.geocode(self.place)\n",
    "        return loc\n",
    "\n",
    "    def get_nearest_station_id(self, loc, search_distance = 50000):\n",
    "        stations = Stations()\n",
    "        stations = stations.nearby(loc.latitude, loc.longitude)\n",
    "        station = stations.fetch()\n",
    "\n",
    "        # only return stations within 50kms\n",
    "        station = station[station[\"distance\"] <= search_distance]\n",
    "        try:\n",
    "            if len(station) == 0:\n",
    "                raise ValueError(f\"`station` is empty, check the `search_distance` value is not too large`\")\n",
    "            return station\n",
    "        except ValueError as error:\n",
    "            print(str(error))\n",
    "            pass\n",
    "                                 \n",
    "    def get_all_weather_data(self):\n",
    "        \n",
    "        # Get Daily data\n",
    "        loc = self.get_lat_long()\n",
    "        station_id = self.get_nearest_station_id(loc, search_distance=50000)\n",
    "        \n",
    "        data_list = []\n",
    "        for j in range(len(station_id.index)):\n",
    "        \n",
    "            point_data = Daily(station_id.index.values[j], self.start_date, self.end_date)\n",
    "            point_data = point_data.fetch()\n",
    "\n",
    "            point_data = point_data.reset_index()\n",
    "            point_data = point_data[['time','tavg', 'tmin', 'tmax']]\n",
    "            point_data['location'] = self.place\n",
    "\n",
    "            # drop any rows where time, tav, tmin, tmax are NA\n",
    "            point_data = point_data[(point_data[\"tavg\"].isna())|\n",
    "                                    (point_data[\"tmin\"].isna())|\n",
    "                                    (point_data[\"tmax\"].isna())|\n",
    "                                    (point_data[\"time\"].isna())\n",
    "                                    ]\n",
    "            \n",
    "            data_list.append(point_data)\n",
    "\n",
    "\n",
    "        return data_list\n",
    "        \n",
    "    def combine_weather_data(self):\n",
    "\n",
    "        weather_data_list = self.get_all_weather_data\n",
    "\n",
    "        output_data = pd.DataFrame(columns=weather_data_list[0].columns)\n",
    "\n",
    "        # create a list of all dates that can be removed when date has already been found\n",
    "        date_list = pd.Series(start=self.start_date, end=self.end_date)\n",
    "\n",
    "        for k in range(len(weather_data_list)):\n",
    "            #only select values that are in the date_list so haven't yet been populated\n",
    "            weather_data_list[k] = weather_data_list[k][weather_data_list[k]['time'].isin(date_list)]\n",
    "\n",
    "            output_data = pd.concat([output_data, weather_data_list[k]])\n",
    "\n",
    "            # update date list to drop dates already included\n",
    "            date_list = date_list[~date_list.isin(weather_data_list[k][\"time\"])]\n",
    "\n",
    "        return output_data"
   ]
  },
  {
   "cell_type": "code",
   "execution_count": null,
   "metadata": {},
   "outputs": [],
   "source": [
    "fooClass = FetchDataFoo(place='Alsace, France', start_date='01-01-2000', end_date='2022-01-01')\n",
    "loc = fooClass.get_lat_long()\n",
    "foo_weather_data = fooClass.get_weather_data()\n"
   ]
  },
  {
   "cell_type": "code",
   "execution_count": null,
   "metadata": {},
   "outputs": [],
   "source": [
    "foo_weather_data[0][~foo_weather_data[0][[\"time\",\"tavg\", \"tmin\", \"tmax\", \"location\"]].isna()]"
   ]
  },
  {
   "cell_type": "code",
   "execution_count": null,
   "metadata": {},
   "outputs": [],
   "source": [
    "foo_output_data = pd.DataFrame(columns=['time', 'tavg', 'tmin', \"tmax\", \"location\"])\n",
    "foo_dr = pd.date_range(start='2000-01-01', end ='2022-01-01')\n",
    "\n",
    "foo_weather_data[0] = foo_weather_data[0][foo_weather_data[0]['time'].isin(foo_dr)]\n",
    "\n",
    "foo_output_data = pd.concat([foo_output_data, foo_weather_data[0]])\n",
    "\n",
    "foo_dr = foo_dr[~foo_dr.isin(foo_weather_data[0][\"time\"])]\n",
    "foo_dr"
   ]
  },
  {
   "cell_type": "code",
   "execution_count": null,
   "metadata": {},
   "outputs": [],
   "source": [
    "import csv\n",
    "\n",
    "# Open the CSV file and read it into a list\n",
    "# Open the CSV file and read it into a list\n",
    "with open('data/france-wine-regions.csv', newline='') as csvfile:\n",
    "    reader = csv.reader(csvfile, delimiter=',')\n",
    "    data = [row[0] for row in reader]\n",
    "    data = data[1:] # drop the header\n",
    "\n",
    "data"
   ]
  }
 ],
 "metadata": {
  "kernelspec": {
   "display_name": "Python 3",
   "language": "python",
   "name": "python3"
  },
  "language_info": {
   "codemirror_mode": {
    "name": "ipython",
    "version": 3
   },
   "file_extension": ".py",
   "mimetype": "text/x-python",
   "name": "python",
   "nbconvert_exporter": "python",
   "pygments_lexer": "ipython3",
   "version": "3.9.6"
  }
 },
 "nbformat": 4,
 "nbformat_minor": 2
}
