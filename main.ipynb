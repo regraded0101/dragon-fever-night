{
 "cells": [
  {
   "cell_type": "code",
   "execution_count": null,
   "metadata": {},
   "outputs": [],
   "source": [
    "from geopy.geocoders import Nominatim\n",
    "geolocator = Nominatim(user_agent=\"my_user_agent\")\n",
    "\n",
    "loc = geolocator.geocode('Champagne, France')\n"
   ]
  },
  {
   "cell_type": "code",
   "execution_count": null,
   "metadata": {},
   "outputs": [],
   "source": [
    "# Import Meteostat library\n",
    "from meteostat import Stations, Daily\n",
    "\n",
    "# Get nearby weather stations\n",
    "stations = Stations()\n",
    "stations = stations.nearby(loc.latitude, loc.longitude)\n",
    "station = stations.fetch(1)"
   ]
  },
  {
   "cell_type": "code",
   "execution_count": null,
   "metadata": {},
   "outputs": [],
   "source": [
    "from datetime import datetime, timedelta\n",
    "import numpy as np\n",
    "\n",
    "# Set time period\n",
    "start = datetime(2000, 1, 1)\n",
    "end = datetime(2018, 12, 31)\n",
    "\n",
    "# Get Monthly data\n",
    "data = Daily(station.index.values[0], start, end)\n",
    "data = data.fetch()\n",
    "data = data.reset_index()\n",
    "data = data[['time','tavg', 'tmin', 'tmax']]\n"
   ]
  },
  {
   "cell_type": "code",
   "execution_count": null,
   "metadata": {},
   "outputs": [],
   "source": [
    "data['year'] = data['time'].dt.year\n",
    "data['month'] = data['time'].dt.month"
   ]
  },
  {
   "cell_type": "code",
   "execution_count": null,
   "metadata": {},
   "outputs": [],
   "source": [
    "data_month_year = data.groupby(['year', 'month'])[['tavg', 'tmin', 'tmax']].mean().reset_index()"
   ]
  },
  {
   "cell_type": "code",
   "execution_count": null,
   "metadata": {},
   "outputs": [],
   "source": [
    "data_month = data_month_year.groupby('month')[['tavg', 'tmin', 'tmax']].mean().reset_index()\n",
    "data_month.columns = ['month', 'tavg_month', 'tmin_month', 'tmax_month']\n",
    "data_month_year = data_month_year.merge(data_month, how = 'left', on = 'month')"
   ]
  },
  {
   "cell_type": "code",
   "execution_count": null,
   "metadata": {},
   "outputs": [],
   "source": [
    "data_month_year.head()"
   ]
  },
  {
   "cell_type": "code",
   "execution_count": null,
   "metadata": {},
   "outputs": [],
   "source": [
    "import plotly.graph_objects as go\n",
    "\n",
    "plot_data = data_month_year[data_month_year['year'] == 2005]\n",
    "fig = go.Figure()\n",
    "fig.add_trace(go.Scatter(x = plot_data['month'], y = plot_data['tavg'], name = \"2005\"))\n",
    "fig.add_trace(go.Scatter(x = plot_data['month'], y = plot_data['tavg_month']))"
   ]
  },
  {
   "cell_type": "code",
   "execution_count": null,
   "metadata": {},
   "outputs": [],
   "source": []
  }
 ],
 "metadata": {
  "kernelspec": {
   "display_name": "Python 3",
   "language": "python",
   "name": "python3"
  },
  "language_info": {
   "codemirror_mode": {
    "name": "ipython",
    "version": 3
   },
   "file_extension": ".py",
   "mimetype": "text/x-python",
   "name": "python",
   "nbconvert_exporter": "python",
   "pygments_lexer": "ipython3",
   "version": "3.10.4"
  },
  "orig_nbformat": 4
 },
 "nbformat": 4,
 "nbformat_minor": 2
}
